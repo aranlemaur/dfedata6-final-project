{
  "nbformat": 4,
  "nbformat_minor": 0,
  "metadata": {
    "colab": {
      "name": "FINAL Predicting strokes.ipynb",
      "provenance": [],
      "authorship_tag": "ABX9TyNnL2jA/wQeav8mxR7iVRJP",
      "include_colab_link": true
    },
    "kernelspec": {
      "name": "python3",
      "display_name": "Python 3"
    },
    "language_info": {
      "name": "python"
    }
  },
  "cells": [
    {
      "cell_type": "markdown",
      "metadata": {
        "id": "view-in-github",
        "colab_type": "text"
      },
      "source": [
        "<a href=\"https://colab.research.google.com/github/aranlemaur/dfedata6-final-project/blob/main/Enhanced-FINAL_Predicting_strokes.ipynb\" target=\"_parent\"><img src=\"https://colab.research.google.com/assets/colab-badge.svg\" alt=\"Open In Colab\"/></a>"
      ]
    },
    {
      "cell_type": "markdown",
      "metadata": {
        "id": "b-MeKKMs55WA"
      },
      "source": [
        "# Practical Machine Learning \n",
        "### Project: Model Selection"
      ]
    },
    {
      "cell_type": "markdown",
      "metadata": {
        "id": "FEge15Hl55WD"
      },
      "source": [
        "# Abstract"
      ]
    },
    {
      "cell_type": "markdown",
      "metadata": {
        "id": "rmJJOdz955WE"
      },
      "source": [
        "# Part 1: Business and Data Understanding"
      ]
    },
    {
      "cell_type": "markdown",
      "metadata": {
        "id": "K_EWcKs255WG"
      },
      "source": [
        "### Q. Identify a suitable dataset for your canditate question(s)"
      ]
    },
    {
      "cell_type": "markdown",
      "metadata": {
        "id": "NA2qaEL155WH"
      },
      "source": [
        "Go have a look at any of these websites:\n",
        "\n",
        "* https://www.kaggle.com/datasets \n",
        "* https://datasetsearch.research.google.com/\n",
        "* https://data.gov.uk/\n",
        "\n",
        "Find an interesting looking data set related to your problem domain and get a copy of it\n"
      ]
    },
    {
      "cell_type": "markdown",
      "source": [
        "**Answer: The data to be analysed is in the Stroke Prediction Dataset file from kaggle.com. Please find the raw file, this file and the clean file after cleaning in my GitHub repository: https://github.com/aranlemaur/dfedata6-final-project**"
      ],
      "metadata": {
        "id": "22eYgsXuWHE4"
      }
    },
    {
      "cell_type": "markdown",
      "metadata": {
        "id": "t6sxB-Op55WF"
      },
      "source": [
        "### Q. Define the problem domain"
      ]
    },
    {
      "cell_type": "markdown",
      "source": [
        "**Answer: This dataset shows different factors contributing to strokes. Analysing it will help determine which factors are more relevant and should be taken into account when making diagnosis. To be used by healthcare professionals.**"
      ],
      "metadata": {
        "id": "SFmYjEwTXA2B"
      }
    },
    {
      "cell_type": "markdown",
      "metadata": {
        "id": "PasUNESl55WG"
      },
      "source": [
        "### Q. Identify candidate questions for your machine learning project"
      ]
    },
    {
      "cell_type": "markdown",
      "source": [
        "Answer: These are some candidate questions:\n",
        "1.   How does age affect the possibility of having a stroke?\n",
        "2.   And does smoking increase it?\n",
        "3.   Does your marital status and your type of work affect the possibility of having a stroke?\n",
        "4.   How does bmi affect the possibility of having a stroke?\n",
        "5.   Does smoking "
      ],
      "metadata": {
        "id": "kJKbKzFvYr43"
      }
    },
    {
      "cell_type": "markdown",
      "metadata": {
        "id": "zsCo6Gmf55WH"
      },
      "source": [
        "### Q. Generate a descriptive statistics report for the columns in your dataset"
      ]
    },
    {
      "cell_type": "code",
      "source": [
        "# importing libraries:\n",
        "import numpy as np\n",
        "import pandas as pd\n",
        "import seaborn as sns\n",
        "import matplotlib.pyplot as plt"
      ],
      "metadata": {
        "id": "u3sWEH8wZM-G"
      },
      "execution_count": 1,
      "outputs": []
    },
    {
      "cell_type": "code",
      "execution_count": 2,
      "metadata": {
        "id": "1uvJKQH755WH",
        "colab": {
          "base_uri": "https://localhost:8080/",
          "height": 206
        },
        "outputId": "38855341-960a-4033-ab03-7774fe2c6795"
      },
      "outputs": [
        {
          "output_type": "execute_result",
          "data": {
            "text/plain": [
              "      id  gender   age  hypertension  heart_disease ever_married  \\\n",
              "0   9046    Male  67.0             0              1          Yes   \n",
              "1  51676  Female  61.0             0              0          Yes   \n",
              "2  31112    Male  80.0             0              1          Yes   \n",
              "3  60182  Female  49.0             0              0          Yes   \n",
              "4   1665  Female  79.0             1              0          Yes   \n",
              "\n",
              "       work_type Residence_type  avg_glucose_level   bmi   smoking_status  \\\n",
              "0        Private          Urban             228.69  36.6  formerly smoked   \n",
              "1  Self-employed          Rural             202.21   NaN     never smoked   \n",
              "2        Private          Rural             105.92  32.5     never smoked   \n",
              "3        Private          Urban             171.23  34.4           smokes   \n",
              "4  Self-employed          Rural             174.12  24.0     never smoked   \n",
              "\n",
              "   stroke  \n",
              "0       1  \n",
              "1       1  \n",
              "2       1  \n",
              "3       1  \n",
              "4       1  "
            ],
            "text/html": [
              "\n",
              "  <div id=\"df-033d4d83-6f3a-4380-a15d-589effd27520\">\n",
              "    <div class=\"colab-df-container\">\n",
              "      <div>\n",
              "<style scoped>\n",
              "    .dataframe tbody tr th:only-of-type {\n",
              "        vertical-align: middle;\n",
              "    }\n",
              "\n",
              "    .dataframe tbody tr th {\n",
              "        vertical-align: top;\n",
              "    }\n",
              "\n",
              "    .dataframe thead th {\n",
              "        text-align: right;\n",
              "    }\n",
              "</style>\n",
              "<table border=\"1\" class=\"dataframe\">\n",
              "  <thead>\n",
              "    <tr style=\"text-align: right;\">\n",
              "      <th></th>\n",
              "      <th>id</th>\n",
              "      <th>gender</th>\n",
              "      <th>age</th>\n",
              "      <th>hypertension</th>\n",
              "      <th>heart_disease</th>\n",
              "      <th>ever_married</th>\n",
              "      <th>work_type</th>\n",
              "      <th>Residence_type</th>\n",
              "      <th>avg_glucose_level</th>\n",
              "      <th>bmi</th>\n",
              "      <th>smoking_status</th>\n",
              "      <th>stroke</th>\n",
              "    </tr>\n",
              "  </thead>\n",
              "  <tbody>\n",
              "    <tr>\n",
              "      <th>0</th>\n",
              "      <td>9046</td>\n",
              "      <td>Male</td>\n",
              "      <td>67.0</td>\n",
              "      <td>0</td>\n",
              "      <td>1</td>\n",
              "      <td>Yes</td>\n",
              "      <td>Private</td>\n",
              "      <td>Urban</td>\n",
              "      <td>228.69</td>\n",
              "      <td>36.6</td>\n",
              "      <td>formerly smoked</td>\n",
              "      <td>1</td>\n",
              "    </tr>\n",
              "    <tr>\n",
              "      <th>1</th>\n",
              "      <td>51676</td>\n",
              "      <td>Female</td>\n",
              "      <td>61.0</td>\n",
              "      <td>0</td>\n",
              "      <td>0</td>\n",
              "      <td>Yes</td>\n",
              "      <td>Self-employed</td>\n",
              "      <td>Rural</td>\n",
              "      <td>202.21</td>\n",
              "      <td>NaN</td>\n",
              "      <td>never smoked</td>\n",
              "      <td>1</td>\n",
              "    </tr>\n",
              "    <tr>\n",
              "      <th>2</th>\n",
              "      <td>31112</td>\n",
              "      <td>Male</td>\n",
              "      <td>80.0</td>\n",
              "      <td>0</td>\n",
              "      <td>1</td>\n",
              "      <td>Yes</td>\n",
              "      <td>Private</td>\n",
              "      <td>Rural</td>\n",
              "      <td>105.92</td>\n",
              "      <td>32.5</td>\n",
              "      <td>never smoked</td>\n",
              "      <td>1</td>\n",
              "    </tr>\n",
              "    <tr>\n",
              "      <th>3</th>\n",
              "      <td>60182</td>\n",
              "      <td>Female</td>\n",
              "      <td>49.0</td>\n",
              "      <td>0</td>\n",
              "      <td>0</td>\n",
              "      <td>Yes</td>\n",
              "      <td>Private</td>\n",
              "      <td>Urban</td>\n",
              "      <td>171.23</td>\n",
              "      <td>34.4</td>\n",
              "      <td>smokes</td>\n",
              "      <td>1</td>\n",
              "    </tr>\n",
              "    <tr>\n",
              "      <th>4</th>\n",
              "      <td>1665</td>\n",
              "      <td>Female</td>\n",
              "      <td>79.0</td>\n",
              "      <td>1</td>\n",
              "      <td>0</td>\n",
              "      <td>Yes</td>\n",
              "      <td>Self-employed</td>\n",
              "      <td>Rural</td>\n",
              "      <td>174.12</td>\n",
              "      <td>24.0</td>\n",
              "      <td>never smoked</td>\n",
              "      <td>1</td>\n",
              "    </tr>\n",
              "  </tbody>\n",
              "</table>\n",
              "</div>\n",
              "      <button class=\"colab-df-convert\" onclick=\"convertToInteractive('df-033d4d83-6f3a-4380-a15d-589effd27520')\"\n",
              "              title=\"Convert this dataframe to an interactive table.\"\n",
              "              style=\"display:none;\">\n",
              "        \n",
              "  <svg xmlns=\"http://www.w3.org/2000/svg\" height=\"24px\"viewBox=\"0 0 24 24\"\n",
              "       width=\"24px\">\n",
              "    <path d=\"M0 0h24v24H0V0z\" fill=\"none\"/>\n",
              "    <path d=\"M18.56 5.44l.94 2.06.94-2.06 2.06-.94-2.06-.94-.94-2.06-.94 2.06-2.06.94zm-11 1L8.5 8.5l.94-2.06 2.06-.94-2.06-.94L8.5 2.5l-.94 2.06-2.06.94zm10 10l.94 2.06.94-2.06 2.06-.94-2.06-.94-.94-2.06-.94 2.06-2.06.94z\"/><path d=\"M17.41 7.96l-1.37-1.37c-.4-.4-.92-.59-1.43-.59-.52 0-1.04.2-1.43.59L10.3 9.45l-7.72 7.72c-.78.78-.78 2.05 0 2.83L4 21.41c.39.39.9.59 1.41.59.51 0 1.02-.2 1.41-.59l7.78-7.78 2.81-2.81c.8-.78.8-2.07 0-2.86zM5.41 20L4 18.59l7.72-7.72 1.47 1.35L5.41 20z\"/>\n",
              "  </svg>\n",
              "      </button>\n",
              "      \n",
              "  <style>\n",
              "    .colab-df-container {\n",
              "      display:flex;\n",
              "      flex-wrap:wrap;\n",
              "      gap: 12px;\n",
              "    }\n",
              "\n",
              "    .colab-df-convert {\n",
              "      background-color: #E8F0FE;\n",
              "      border: none;\n",
              "      border-radius: 50%;\n",
              "      cursor: pointer;\n",
              "      display: none;\n",
              "      fill: #1967D2;\n",
              "      height: 32px;\n",
              "      padding: 0 0 0 0;\n",
              "      width: 32px;\n",
              "    }\n",
              "\n",
              "    .colab-df-convert:hover {\n",
              "      background-color: #E2EBFA;\n",
              "      box-shadow: 0px 1px 2px rgba(60, 64, 67, 0.3), 0px 1px 3px 1px rgba(60, 64, 67, 0.15);\n",
              "      fill: #174EA6;\n",
              "    }\n",
              "\n",
              "    [theme=dark] .colab-df-convert {\n",
              "      background-color: #3B4455;\n",
              "      fill: #D2E3FC;\n",
              "    }\n",
              "\n",
              "    [theme=dark] .colab-df-convert:hover {\n",
              "      background-color: #434B5C;\n",
              "      box-shadow: 0px 1px 3px 1px rgba(0, 0, 0, 0.15);\n",
              "      filter: drop-shadow(0px 1px 2px rgba(0, 0, 0, 0.3));\n",
              "      fill: #FFFFFF;\n",
              "    }\n",
              "  </style>\n",
              "\n",
              "      <script>\n",
              "        const buttonEl =\n",
              "          document.querySelector('#df-033d4d83-6f3a-4380-a15d-589effd27520 button.colab-df-convert');\n",
              "        buttonEl.style.display =\n",
              "          google.colab.kernel.accessAllowed ? 'block' : 'none';\n",
              "\n",
              "        async function convertToInteractive(key) {\n",
              "          const element = document.querySelector('#df-033d4d83-6f3a-4380-a15d-589effd27520');\n",
              "          const dataTable =\n",
              "            await google.colab.kernel.invokeFunction('convertToInteractive',\n",
              "                                                     [key], {});\n",
              "          if (!dataTable) return;\n",
              "\n",
              "          const docLinkHtml = 'Like what you see? Visit the ' +\n",
              "            '<a target=\"_blank\" href=https://colab.research.google.com/notebooks/data_table.ipynb>data table notebook</a>'\n",
              "            + ' to learn more about interactive tables.';\n",
              "          element.innerHTML = '';\n",
              "          dataTable['output_type'] = 'display_data';\n",
              "          await google.colab.output.renderOutput(dataTable, element);\n",
              "          const docLink = document.createElement('div');\n",
              "          docLink.innerHTML = docLinkHtml;\n",
              "          element.appendChild(docLink);\n",
              "        }\n",
              "      </script>\n",
              "    </div>\n",
              "  </div>\n",
              "  "
            ]
          },
          "metadata": {},
          "execution_count": 2
        }
      ],
      "source": [
        "# first we read the file:\n",
        "df = pd.read_csv('https://raw.githubusercontent.com/aranlemaur/dfedata6-final-project/main/stroke-data-raw.csv')\n",
        "\n",
        "# then we read the data (head) in the file:\n",
        "df.head()"
      ]
    },
    {
      "cell_type": "code",
      "source": [
        "# descriptive report:\n",
        "df.describe().T"
      ],
      "metadata": {
        "colab": {
          "base_uri": "https://localhost:8080/",
          "height": 269
        },
        "id": "X9quO9I-Z189",
        "outputId": "52e229ea-2643-44b0-b57f-48978366371a"
      },
      "execution_count": 3,
      "outputs": [
        {
          "output_type": "execute_result",
          "data": {
            "text/plain": [
              "                    count          mean           std    min        25%  \\\n",
              "id                 5110.0  36517.829354  21161.721625  67.00  17741.250   \n",
              "age                5110.0     43.226614     22.612647   0.08     25.000   \n",
              "hypertension       5110.0      0.097456      0.296607   0.00      0.000   \n",
              "heart_disease      5110.0      0.054012      0.226063   0.00      0.000   \n",
              "avg_glucose_level  5110.0    106.147677     45.283560  55.12     77.245   \n",
              "bmi                4909.0     28.893237      7.854067  10.30     23.500   \n",
              "stroke             5110.0      0.048728      0.215320   0.00      0.000   \n",
              "\n",
              "                         50%       75%       max  \n",
              "id                 36932.000  54682.00  72940.00  \n",
              "age                   45.000     61.00     82.00  \n",
              "hypertension           0.000      0.00      1.00  \n",
              "heart_disease          0.000      0.00      1.00  \n",
              "avg_glucose_level     91.885    114.09    271.74  \n",
              "bmi                   28.100     33.10     97.60  \n",
              "stroke                 0.000      0.00      1.00  "
            ],
            "text/html": [
              "\n",
              "  <div id=\"df-4a6c722c-0873-4e2f-b028-8cc573d998bd\">\n",
              "    <div class=\"colab-df-container\">\n",
              "      <div>\n",
              "<style scoped>\n",
              "    .dataframe tbody tr th:only-of-type {\n",
              "        vertical-align: middle;\n",
              "    }\n",
              "\n",
              "    .dataframe tbody tr th {\n",
              "        vertical-align: top;\n",
              "    }\n",
              "\n",
              "    .dataframe thead th {\n",
              "        text-align: right;\n",
              "    }\n",
              "</style>\n",
              "<table border=\"1\" class=\"dataframe\">\n",
              "  <thead>\n",
              "    <tr style=\"text-align: right;\">\n",
              "      <th></th>\n",
              "      <th>count</th>\n",
              "      <th>mean</th>\n",
              "      <th>std</th>\n",
              "      <th>min</th>\n",
              "      <th>25%</th>\n",
              "      <th>50%</th>\n",
              "      <th>75%</th>\n",
              "      <th>max</th>\n",
              "    </tr>\n",
              "  </thead>\n",
              "  <tbody>\n",
              "    <tr>\n",
              "      <th>id</th>\n",
              "      <td>5110.0</td>\n",
              "      <td>36517.829354</td>\n",
              "      <td>21161.721625</td>\n",
              "      <td>67.00</td>\n",
              "      <td>17741.250</td>\n",
              "      <td>36932.000</td>\n",
              "      <td>54682.00</td>\n",
              "      <td>72940.00</td>\n",
              "    </tr>\n",
              "    <tr>\n",
              "      <th>age</th>\n",
              "      <td>5110.0</td>\n",
              "      <td>43.226614</td>\n",
              "      <td>22.612647</td>\n",
              "      <td>0.08</td>\n",
              "      <td>25.000</td>\n",
              "      <td>45.000</td>\n",
              "      <td>61.00</td>\n",
              "      <td>82.00</td>\n",
              "    </tr>\n",
              "    <tr>\n",
              "      <th>hypertension</th>\n",
              "      <td>5110.0</td>\n",
              "      <td>0.097456</td>\n",
              "      <td>0.296607</td>\n",
              "      <td>0.00</td>\n",
              "      <td>0.000</td>\n",
              "      <td>0.000</td>\n",
              "      <td>0.00</td>\n",
              "      <td>1.00</td>\n",
              "    </tr>\n",
              "    <tr>\n",
              "      <th>heart_disease</th>\n",
              "      <td>5110.0</td>\n",
              "      <td>0.054012</td>\n",
              "      <td>0.226063</td>\n",
              "      <td>0.00</td>\n",
              "      <td>0.000</td>\n",
              "      <td>0.000</td>\n",
              "      <td>0.00</td>\n",
              "      <td>1.00</td>\n",
              "    </tr>\n",
              "    <tr>\n",
              "      <th>avg_glucose_level</th>\n",
              "      <td>5110.0</td>\n",
              "      <td>106.147677</td>\n",
              "      <td>45.283560</td>\n",
              "      <td>55.12</td>\n",
              "      <td>77.245</td>\n",
              "      <td>91.885</td>\n",
              "      <td>114.09</td>\n",
              "      <td>271.74</td>\n",
              "    </tr>\n",
              "    <tr>\n",
              "      <th>bmi</th>\n",
              "      <td>4909.0</td>\n",
              "      <td>28.893237</td>\n",
              "      <td>7.854067</td>\n",
              "      <td>10.30</td>\n",
              "      <td>23.500</td>\n",
              "      <td>28.100</td>\n",
              "      <td>33.10</td>\n",
              "      <td>97.60</td>\n",
              "    </tr>\n",
              "    <tr>\n",
              "      <th>stroke</th>\n",
              "      <td>5110.0</td>\n",
              "      <td>0.048728</td>\n",
              "      <td>0.215320</td>\n",
              "      <td>0.00</td>\n",
              "      <td>0.000</td>\n",
              "      <td>0.000</td>\n",
              "      <td>0.00</td>\n",
              "      <td>1.00</td>\n",
              "    </tr>\n",
              "  </tbody>\n",
              "</table>\n",
              "</div>\n",
              "      <button class=\"colab-df-convert\" onclick=\"convertToInteractive('df-4a6c722c-0873-4e2f-b028-8cc573d998bd')\"\n",
              "              title=\"Convert this dataframe to an interactive table.\"\n",
              "              style=\"display:none;\">\n",
              "        \n",
              "  <svg xmlns=\"http://www.w3.org/2000/svg\" height=\"24px\"viewBox=\"0 0 24 24\"\n",
              "       width=\"24px\">\n",
              "    <path d=\"M0 0h24v24H0V0z\" fill=\"none\"/>\n",
              "    <path d=\"M18.56 5.44l.94 2.06.94-2.06 2.06-.94-2.06-.94-.94-2.06-.94 2.06-2.06.94zm-11 1L8.5 8.5l.94-2.06 2.06-.94-2.06-.94L8.5 2.5l-.94 2.06-2.06.94zm10 10l.94 2.06.94-2.06 2.06-.94-2.06-.94-.94-2.06-.94 2.06-2.06.94z\"/><path d=\"M17.41 7.96l-1.37-1.37c-.4-.4-.92-.59-1.43-.59-.52 0-1.04.2-1.43.59L10.3 9.45l-7.72 7.72c-.78.78-.78 2.05 0 2.83L4 21.41c.39.39.9.59 1.41.59.51 0 1.02-.2 1.41-.59l7.78-7.78 2.81-2.81c.8-.78.8-2.07 0-2.86zM5.41 20L4 18.59l7.72-7.72 1.47 1.35L5.41 20z\"/>\n",
              "  </svg>\n",
              "      </button>\n",
              "      \n",
              "  <style>\n",
              "    .colab-df-container {\n",
              "      display:flex;\n",
              "      flex-wrap:wrap;\n",
              "      gap: 12px;\n",
              "    }\n",
              "\n",
              "    .colab-df-convert {\n",
              "      background-color: #E8F0FE;\n",
              "      border: none;\n",
              "      border-radius: 50%;\n",
              "      cursor: pointer;\n",
              "      display: none;\n",
              "      fill: #1967D2;\n",
              "      height: 32px;\n",
              "      padding: 0 0 0 0;\n",
              "      width: 32px;\n",
              "    }\n",
              "\n",
              "    .colab-df-convert:hover {\n",
              "      background-color: #E2EBFA;\n",
              "      box-shadow: 0px 1px 2px rgba(60, 64, 67, 0.3), 0px 1px 3px 1px rgba(60, 64, 67, 0.15);\n",
              "      fill: #174EA6;\n",
              "    }\n",
              "\n",
              "    [theme=dark] .colab-df-convert {\n",
              "      background-color: #3B4455;\n",
              "      fill: #D2E3FC;\n",
              "    }\n",
              "\n",
              "    [theme=dark] .colab-df-convert:hover {\n",
              "      background-color: #434B5C;\n",
              "      box-shadow: 0px 1px 3px 1px rgba(0, 0, 0, 0.15);\n",
              "      filter: drop-shadow(0px 1px 2px rgba(0, 0, 0, 0.3));\n",
              "      fill: #FFFFFF;\n",
              "    }\n",
              "  </style>\n",
              "\n",
              "      <script>\n",
              "        const buttonEl =\n",
              "          document.querySelector('#df-4a6c722c-0873-4e2f-b028-8cc573d998bd button.colab-df-convert');\n",
              "        buttonEl.style.display =\n",
              "          google.colab.kernel.accessAllowed ? 'block' : 'none';\n",
              "\n",
              "        async function convertToInteractive(key) {\n",
              "          const element = document.querySelector('#df-4a6c722c-0873-4e2f-b028-8cc573d998bd');\n",
              "          const dataTable =\n",
              "            await google.colab.kernel.invokeFunction('convertToInteractive',\n",
              "                                                     [key], {});\n",
              "          if (!dataTable) return;\n",
              "\n",
              "          const docLinkHtml = 'Like what you see? Visit the ' +\n",
              "            '<a target=\"_blank\" href=https://colab.research.google.com/notebooks/data_table.ipynb>data table notebook</a>'\n",
              "            + ' to learn more about interactive tables.';\n",
              "          element.innerHTML = '';\n",
              "          dataTable['output_type'] = 'display_data';\n",
              "          await google.colab.output.renderOutput(dataTable, element);\n",
              "          const docLink = document.createElement('div');\n",
              "          docLink.innerHTML = docLinkHtml;\n",
              "          element.appendChild(docLink);\n",
              "        }\n",
              "      </script>\n",
              "    </div>\n",
              "  </div>\n",
              "  "
            ]
          },
          "metadata": {},
          "execution_count": 3
        }
      ]
    },
    {
      "cell_type": "code",
      "source": [
        "# I want to see unique values too:\n",
        "print(\"Gender: \",df[\"gender\"].unique())\n",
        "print(\"Hypertension: \",df[\"hypertension\"].unique())\n",
        "print(\"Heart Disease: \",df[\"heart_disease\"].unique())\n",
        "print(\"Ever Married: \",df[\"ever_married\"].unique())\n",
        "print(\"Work Type: \",df[\"work_type\"].unique())\n",
        "print(\"Residence type: \",df[\"Residence_type\"].unique())\n",
        "print(\"Smoking status: \",df[\"smoking_status\"].unique())\n",
        "print(\"Stroke: \",df[\"stroke\"].unique())"
      ],
      "metadata": {
        "colab": {
          "base_uri": "https://localhost:8080/"
        },
        "id": "OtW6POyiaLbl",
        "outputId": "ff2025fc-0c42-4b09-b4cc-d98c30cf3ef3"
      },
      "execution_count": 5,
      "outputs": [
        {
          "output_type": "stream",
          "name": "stdout",
          "text": [
            "Gender:  ['Male' 'Female' 'Other']\n",
            "Hypertension:  [0 1]\n",
            "Heart Disease:  [1 0]\n",
            "Ever Married:  ['Yes' 'No']\n",
            "Work Type:  ['Private' 'Self-employed' 'Govt_job' 'children' 'Never_worked']\n",
            "Residence type:  ['Urban' 'Rural']\n",
            "Smoking status:  ['formerly smoked' 'never smoked' 'smokes' 'Unknown']\n",
            "Stroke:  [1 0]\n"
          ]
        }
      ]
    },
    {
      "cell_type": "markdown",
      "metadata": {
        "id": "toYhhJ4v55WI"
      },
      "source": [
        "# Part 2: Data Preparation"
      ]
    },
    {
      "cell_type": "markdown",
      "metadata": {
        "id": "zUDh9O2T55WI"
      },
      "source": [
        "### Q. Discuss the following types of missing data and how they would be handled in reference to your dataset where applicable.\n",
        "*\tMissing completely at random (MCAR)\n",
        "*\tMissing at random (MAR)\n",
        "*\tMissing Not at Random (MNAR)"
      ]
    },
    {
      "cell_type": "code",
      "execution_count": 6,
      "metadata": {
        "id": "u0IiUxwR55WI",
        "colab": {
          "base_uri": "https://localhost:8080/"
        },
        "outputId": "e7b0b732-6208-462c-f347-9657edc65d93"
      },
      "outputs": [
        {
          "output_type": "stream",
          "name": "stdout",
          "text": [
            "<class 'pandas.core.frame.DataFrame'>\n",
            "RangeIndex: 5110 entries, 0 to 5109\n",
            "Data columns (total 12 columns):\n",
            " #   Column             Non-Null Count  Dtype  \n",
            "---  ------             --------------  -----  \n",
            " 0   id                 5110 non-null   int64  \n",
            " 1   gender             5110 non-null   object \n",
            " 2   age                5110 non-null   float64\n",
            " 3   hypertension       5110 non-null   int64  \n",
            " 4   heart_disease      5110 non-null   int64  \n",
            " 5   ever_married       5110 non-null   object \n",
            " 6   work_type          5110 non-null   object \n",
            " 7   Residence_type     5110 non-null   object \n",
            " 8   avg_glucose_level  5110 non-null   float64\n",
            " 9   bmi                4909 non-null   float64\n",
            " 10  smoking_status     5110 non-null   object \n",
            " 11  stroke             5110 non-null   int64  \n",
            "dtypes: float64(3), int64(4), object(5)\n",
            "memory usage: 479.2+ KB\n"
          ]
        }
      ],
      "source": [
        "# in the descriptive report above, I see there is at least one null value under the bmi column. Let's see how many missing values there are in total:\n",
        "df.info()"
      ]
    },
    {
      "cell_type": "code",
      "source": [
        "# how many values missing in bmi?\n",
        "df.isnull().sum()"
      ],
      "metadata": {
        "colab": {
          "base_uri": "https://localhost:8080/"
        },
        "id": "Zv7xCFbzZ97m",
        "outputId": "c483153c-f262-425d-a161-92f71621aefc"
      },
      "execution_count": 7,
      "outputs": [
        {
          "output_type": "execute_result",
          "data": {
            "text/plain": [
              "id                     0\n",
              "gender                 0\n",
              "age                    0\n",
              "hypertension           0\n",
              "heart_disease          0\n",
              "ever_married           0\n",
              "work_type              0\n",
              "Residence_type         0\n",
              "avg_glucose_level      0\n",
              "bmi                  201\n",
              "smoking_status         0\n",
              "stroke                 0\n",
              "dtype: int64"
            ]
          },
          "metadata": {},
          "execution_count": 7
        }
      ]
    },
    {
      "cell_type": "code",
      "source": [
        "# handling missing values in bmi: in the description table above I see values of min 10.30 and max 97.60, which most definitely are outliers.\n",
        "# Because of this, instead of filling missing values with the mean, I will use the median.\n",
        "df['bmi'].fillna(df['bmi'].median(), inplace=True)\n",
        "df.isnull().sum()"
      ],
      "metadata": {
        "colab": {
          "base_uri": "https://localhost:8080/"
        },
        "id": "tpSfBbIkaE0W",
        "outputId": "fdcbd70c-ad61-435c-e00c-8aca2cd9540e"
      },
      "execution_count": 8,
      "outputs": [
        {
          "output_type": "execute_result",
          "data": {
            "text/plain": [
              "id                   0\n",
              "gender               0\n",
              "age                  0\n",
              "hypertension         0\n",
              "heart_disease        0\n",
              "ever_married         0\n",
              "work_type            0\n",
              "Residence_type       0\n",
              "avg_glucose_level    0\n",
              "bmi                  0\n",
              "smoking_status       0\n",
              "stroke               0\n",
              "dtype: int64"
            ]
          },
          "metadata": {},
          "execution_count": 8
        }
      ]
    },
    {
      "cell_type": "markdown",
      "source": [
        "**Answer: regarding the missing data, I am assuming they were missing completely at random (MCAR), which means that there is no relationship between the missingness of the data and any values, observed or missing.**"
      ],
      "metadata": {
        "id": "KB8NufcIcvc3"
      }
    },
    {
      "cell_type": "markdown",
      "source": [
        "Q. Is there any correlation in the data? How would you decide which columns to keep?"
      ],
      "metadata": {
        "id": "Z-_eDG2e_C2W"
      }
    },
    {
      "cell_type": "code",
      "source": [
        "# plotting and using .corr()\n",
        "dataplot = sns.heatmap(df.corr(), cmap=\"PuBuGn\", annot=True)"
      ],
      "metadata": {
        "id": "_eRjAQ6u_CHm",
        "colab": {
          "base_uri": "https://localhost:8080/",
          "height": 350
        },
        "outputId": "a9a8085c-9609-4776-85cb-1b237312bad7"
      },
      "execution_count": 9,
      "outputs": [
        {
          "output_type": "display_data",
          "data": {
            "text/plain": [
              "<Figure size 432x288 with 2 Axes>"
            ],
            "image/png": "[encoded data removed]"
          },
          "metadata": {
            "needs_background": "light"
          }
        }
      ]
    },
    {
      "cell_type": "code",
      "source": [
        "df.corr()"
      ],
      "metadata": {
        "colab": {
          "base_uri": "https://localhost:8080/",
          "height": 269
        },
        "id": "zarz6LjFdf-P",
        "outputId": "6a83e426-85f5-43ed-d7cb-d3901bd1dde8"
      },
      "execution_count": 10,
      "outputs": [
        {
          "output_type": "execute_result",
          "data": {
            "text/plain": [
              "                         id       age  hypertension  heart_disease  \\\n",
              "id                 1.000000  0.003538      0.003550      -0.001296   \n",
              "age                0.003538  1.000000      0.276398       0.263796   \n",
              "hypertension       0.003550  0.276398      1.000000       0.108306   \n",
              "heart_disease     -0.001296  0.263796      0.108306       1.000000   \n",
              "avg_glucose_level  0.001092  0.238171      0.174474       0.161857   \n",
              "bmi                0.005555  0.324296      0.158293       0.036916   \n",
              "stroke             0.006388  0.245257      0.127904       0.134914   \n",
              "\n",
              "                   avg_glucose_level       bmi    stroke  \n",
              "id                          0.001092  0.005555  0.006388  \n",
              "age                         0.238171  0.324296  0.245257  \n",
              "hypertension                0.174474  0.158293  0.127904  \n",
              "heart_disease               0.161857  0.036916  0.134914  \n",
              "avg_glucose_level           1.000000  0.166876  0.131945  \n",
              "bmi                         0.166876  1.000000  0.036110  \n",
              "stroke                      0.131945  0.036110  1.000000  "
            ],
            "text/html": [
              "\n",
              "  <div id=\"df-18a5d468-71a3-4b33-b9aa-3aca1340a0fd\">\n",
              "    <div class=\"colab-df-container\">\n",
              "      <div>\n",
              "<style scoped>\n",
              "    .dataframe tbody tr th:only-of-type {\n",
              "        vertical-align: middle;\n",
              "    }\n",
              "\n",
              "    .dataframe tbody tr th {\n",
              "        vertical-align: top;\n",
              "    }\n",
              "\n",
              "    .dataframe thead th {\n",
              "        text-align: right;\n",
              "    }\n",
              "</style>\n",
              "<table border=\"1\" class=\"dataframe\">\n",
              "  <thead>\n",
              "    <tr style=\"text-align: right;\">\n",
              "      <th></th>\n",
              "      <th>id</th>\n",
              "      <th>age</th>\n",
              "      <th>hypertension</th>\n",
              "      <th>heart_disease</th>\n",
              "      <th>avg_glucose_level</th>\n",
              "      <th>bmi</th>\n",
              "      <th>stroke</th>\n",
              "    </tr>\n",
              "  </thead>\n",
              "  <tbody>\n",
              "    <tr>\n",
              "      <th>id</th>\n",
              "      <td>1.000000</td>\n",
              "      <td>0.003538</td>\n",
              "      <td>0.003550</td>\n",
              "      <td>-0.001296</td>\n",
              "      <td>0.001092</td>\n",
              "      <td>0.005555</td>\n",
              "      <td>0.006388</td>\n",
              "    </tr>\n",
              "    <tr>\n",
              "      <th>age</th>\n",
              "      <td>0.003538</td>\n",
              "      <td>1.000000</td>\n",
              "      <td>0.276398</td>\n",
              "      <td>0.263796</td>\n",
              "      <td>0.238171</td>\n",
              "      <td>0.324296</td>\n",
              "      <td>0.245257</td>\n",
              "    </tr>\n",
              "    <tr>\n",
              "      <th>hypertension</th>\n",
              "      <td>0.003550</td>\n",
              "      <td>0.276398</td>\n",
              "      <td>1.000000</td>\n",
              "      <td>0.108306</td>\n",
              "      <td>0.174474</td>\n",
              "      <td>0.158293</td>\n",
              "      <td>0.127904</td>\n",
              "    </tr>\n",
              "    <tr>\n",
              "      <th>heart_disease</th>\n",
              "      <td>-0.001296</td>\n",
              "      <td>0.263796</td>\n",
              "      <td>0.108306</td>\n",
              "      <td>1.000000</td>\n",
              "      <td>0.161857</td>\n",
              "      <td>0.036916</td>\n",
              "      <td>0.134914</td>\n",
              "    </tr>\n",
              "    <tr>\n",
              "      <th>avg_glucose_level</th>\n",
              "      <td>0.001092</td>\n",
              "      <td>0.238171</td>\n",
              "      <td>0.174474</td>\n",
              "      <td>0.161857</td>\n",
              "      <td>1.000000</td>\n",
              "      <td>0.166876</td>\n",
              "      <td>0.131945</td>\n",
              "    </tr>\n",
              "    <tr>\n",
              "      <th>bmi</th>\n",
              "      <td>0.005555</td>\n",
              "      <td>0.324296</td>\n",
              "      <td>0.158293</td>\n",
              "      <td>0.036916</td>\n",
              "      <td>0.166876</td>\n",
              "      <td>1.000000</td>\n",
              "      <td>0.036110</td>\n",
              "    </tr>\n",
              "    <tr>\n",
              "      <th>stroke</th>\n",
              "      <td>0.006388</td>\n",
              "      <td>0.245257</td>\n",
              "      <td>0.127904</td>\n",
              "      <td>0.134914</td>\n",
              "      <td>0.131945</td>\n",
              "      <td>0.036110</td>\n",
              "      <td>1.000000</td>\n",
              "    </tr>\n",
              "  </tbody>\n",
              "</table>\n",
              "</div>\n",
              "      <button class=\"colab-df-convert\" onclick=\"convertToInteractive('df-18a5d468-71a3-4b33-b9aa-3aca1340a0fd')\"\n",
              "              title=\"Convert this dataframe to an interactive table.\"\n",
              "              style=\"display:none;\">\n",
              "        \n",
              "  <svg xmlns=\"http://www.w3.org/2000/svg\" height=\"24px\"viewBox=\"0 0 24 24\"\n",
              "       width=\"24px\">\n",
              "    <path d=\"M0 0h24v24H0V0z\" fill=\"none\"/>\n",
              "    <path d=\"M18.56 5.44l.94 2.06.94-2.06 2.06-.94-2.06-.94-.94-2.06-.94 2.06-2.06.94zm-11 1L8.5 8.5l.94-2.06 2.06-.94-2.06-.94L8.5 2.5l-.94 2.06-2.06.94zm10 10l.94 2.06.94-2.06 2.06-.94-2.06-.94-.94-2.06-.94 2.06-2.06.94z\"/><path d=\"M17.41 7.96l-1.37-1.37c-.4-.4-.92-.59-1.43-.59-.52 0-1.04.2-1.43.59L10.3 9.45l-7.72 7.72c-.78.78-.78 2.05 0 2.83L4 21.41c.39.39.9.59 1.41.59.51 0 1.02-.2 1.41-.59l7.78-7.78 2.81-2.81c.8-.78.8-2.07 0-2.86zM5.41 20L4 18.59l7.72-7.72 1.47 1.35L5.41 20z\"/>\n",
              "  </svg>\n",
              "      </button>\n",
              "      \n",
              "  <style>\n",
              "    .colab-df-container {\n",
              "      display:flex;\n",
              "      flex-wrap:wrap;\n",
              "      gap: 12px;\n",
              "    }\n",
              "\n",
              "    .colab-df-convert {\n",
              "      background-color: #E8F0FE;\n",
              "      border: none;\n",
              "      border-radius: 50%;\n",
              "      cursor: pointer;\n",
              "      display: none;\n",
              "      fill: #1967D2;\n",
              "      height: 32px;\n",
              "      padding: 0 0 0 0;\n",
              "      width: 32px;\n",
              "    }\n",
              "\n",
              "    .colab-df-convert:hover {\n",
              "      background-color: #E2EBFA;\n",
              "      box-shadow: 0px 1px 2px rgba(60, 64, 67, 0.3), 0px 1px 3px 1px rgba(60, 64, 67, 0.15);\n",
              "      fill: #174EA6;\n",
              "    }\n",
              "\n",
              "    [theme=dark] .colab-df-convert {\n",
              "      background-color: #3B4455;\n",
              "      fill: #D2E3FC;\n",
              "    }\n",
              "\n",
              "    [theme=dark] .colab-df-convert:hover {\n",
              "      background-color: #434B5C;\n",
              "      box-shadow: 0px 1px 3px 1px rgba(0, 0, 0, 0.15);\n",
              "      filter: drop-shadow(0px 1px 2px rgba(0, 0, 0, 0.3));\n",
              "      fill: #FFFFFF;\n",
              "    }\n",
              "  </style>\n",
              "\n",
              "      <script>\n",
              "        const buttonEl =\n",
              "          document.querySelector('#df-18a5d468-71a3-4b33-b9aa-3aca1340a0fd button.colab-df-convert');\n",
              "        buttonEl.style.display =\n",
              "          google.colab.kernel.accessAllowed ? 'block' : 'none';\n",
              "\n",
              "        async function convertToInteractive(key) {\n",
              "          const element = document.querySelector('#df-18a5d468-71a3-4b33-b9aa-3aca1340a0fd');\n",
              "          const dataTable =\n",
              "            await google.colab.kernel.invokeFunction('convertToInteractive',\n",
              "                                                     [key], {});\n",
              "          if (!dataTable) return;\n",
              "\n",
              "          const docLinkHtml = 'Like what you see? Visit the ' +\n",
              "            '<a target=\"_blank\" href=https://colab.research.google.com/notebooks/data_table.ipynb>data table notebook</a>'\n",
              "            + ' to learn more about interactive tables.';\n",
              "          element.innerHTML = '';\n",
              "          dataTable['output_type'] = 'display_data';\n",
              "          await google.colab.output.renderOutput(dataTable, element);\n",
              "          const docLink = document.createElement('div');\n",
              "          docLink.innerHTML = docLinkHtml;\n",
              "          element.appendChild(docLink);\n",
              "        }\n",
              "      </script>\n",
              "    </div>\n",
              "  </div>\n",
              "  "
            ]
          },
          "metadata": {},
          "execution_count": 10
        }
      ]
    },
    {
      "cell_type": "markdown",
      "source": [
        "**There are correlations in the data, age one of the most significant and recognisable factor at first.**"
      ],
      "metadata": {
        "id": "jm8JyKklfBKW"
      }
    },
    {
      "cell_type": "markdown",
      "source": [
        "**The correlation function and graph only plot floats and ints, leaving behind objects. Before I convert these objects to ints, I want to have a look at which features to drop in graphs.**"
      ],
      "metadata": {
        "id": "auCNSbDReLtt"
      }
    },
    {
      "cell_type": "code",
      "source": [
        "df[\"gender\"].value_counts()\n",
        "sns.countplot(x=df[\"gender\"],data=df)"
      ],
      "metadata": {
        "colab": {
          "base_uri": "https://localhost:8080/",
          "height": 296
        },
        "id": "YITsXxK2fmiL",
        "outputId": "7306f2c6-b4df-4410-9ff7-60e46577011a"
      },
      "execution_count": 11,
      "outputs": [
        {
          "output_type": "execute_result",
          "data": {
            "text/plain": [
              "<matplotlib.axes._subplots.AxesSubplot at 0x7f25ac7624d0>"
            ]
          },
          "metadata": {},
          "execution_count": 11
        },
        {
          "output_type": "display_data",
          "data": {
            "text/plain": [
              "<Figure size 432x288 with 1 Axes>"
            ],
            "image/png": "[encoded data removed]"
          },
          "metadata": {
            "needs_background": "light"
          }
        }
      ]
    },
    {
      "cell_type": "code",
      "source": [
        "sns.histplot(df[\"bmi\"]) # it seems there are outliers in the higher end"
      ],
      "metadata": {
        "colab": {
          "base_uri": "https://localhost:8080/",
          "height": 296
        },
        "id": "mkQERKy9fsOc",
        "outputId": "b929bee9-8e9c-4a21-f38b-15e350d9c4e6"
      },
      "execution_count": 12,
      "outputs": [
        {
          "output_type": "execute_result",
          "data": {
            "text/plain": [
              "<matplotlib.axes._subplots.AxesSubplot at 0x7f25ac737090>"
            ]
          },
          "metadata": {},
          "execution_count": 12
        },
        {
          "output_type": "display_data",
          "data": {
            "text/plain": [
              "<Figure size 432x288 with 1 Axes>"
            ],
            "image/png": "[encoded data removed]"
          },
          "metadata": {
            "needs_background": "light"
          }
        }
      ]
    },
    {
      "cell_type": "code",
      "source": [
        "df[\"hypertension\"].value_counts()\n",
        "sns.countplot(x=df[\"hypertension\"], data=df)"
      ],
      "metadata": {
        "colab": {
          "base_uri": "https://localhost:8080/",
          "height": 296
        },
        "id": "KiOwSrRegLuz",
        "outputId": "bad2bcfa-90a1-487e-9736-aada423b0b1d"
      },
      "execution_count": 13,
      "outputs": [
        {
          "output_type": "execute_result",
          "data": {
            "text/plain": [
              "<matplotlib.axes._subplots.AxesSubplot at 0x7f25ac6c9150>"
            ]
          },
          "metadata": {},
          "execution_count": 13
        },
        {
          "output_type": "display_data",
          "data": {
            "text/plain": [
              "<Figure size 432x288 with 1 Axes>"
            ],
            "image/png": "[encoded data removed]"
          },
          "metadata": {
            "needs_background": "light"
          }
        }
      ]
    },
    {
      "cell_type": "code",
      "source": [
        "df[\"smoking_status\"].value_counts()\n",
        "sns.countplot(x=df[\"smoking_status\"], data=df) "
      ],
      "metadata": {
        "colab": {
          "base_uri": "https://localhost:8080/",
          "height": 298
        },
        "id": "QXLlBLTJgLo7",
        "outputId": "36c7040e-b023-4720-dd44-27c720095cc9"
      },
      "execution_count": 14,
      "outputs": [
        {
          "output_type": "execute_result",
          "data": {
            "text/plain": [
              "<matplotlib.axes._subplots.AxesSubplot at 0x7f25ac51ca10>"
            ]
          },
          "metadata": {},
          "execution_count": 14
        },
        {
          "output_type": "display_data",
          "data": {
            "text/plain": [
              "<Figure size 432x288 with 1 Axes>"
            ],
            "image/png": "[encoded data removed]"
          },
          "metadata": {
            "needs_background": "light"
          }
        }
      ]
    },
    {
      "cell_type": "code",
      "source": [
        "df[\"Residence_type\"].value_counts()\n",
        "sns.countplot(x=df[\"Residence_type\"], data=df) "
      ],
      "metadata": {
        "colab": {
          "base_uri": "https://localhost:8080/",
          "height": 298
        },
        "id": "030mirAqgLf0",
        "outputId": "925402c3-7104-4115-cd2f-c36425a4dd7a"
      },
      "execution_count": 15,
      "outputs": [
        {
          "output_type": "execute_result",
          "data": {
            "text/plain": [
              "<matplotlib.axes._subplots.AxesSubplot at 0x7f25ac499650>"
            ]
          },
          "metadata": {},
          "execution_count": 15
        },
        {
          "output_type": "display_data",
          "data": {
            "text/plain": [
              "<Figure size 432x288 with 1 Axes>"
            ],
            "image/png": "[encoded data removed]"
          },
          "metadata": {
            "needs_background": "light"
          }
        }
      ]
    },
    {
      "cell_type": "code",
      "source": [
        "df[\"work_type\"].value_counts()\n",
        "sns.countplot(x=df[\"work_type\"], data=df) "
      ],
      "metadata": {
        "colab": {
          "base_uri": "https://localhost:8080/",
          "height": 298
        },
        "id": "b6epVNtLhV2r",
        "outputId": "4503cace-e1af-47ac-d614-c22321cefb27"
      },
      "execution_count": 16,
      "outputs": [
        {
          "output_type": "execute_result",
          "data": {
            "text/plain": [
              "<matplotlib.axes._subplots.AxesSubplot at 0x7f25ac465f50>"
            ]
          },
          "metadata": {},
          "execution_count": 16
        },
        {
          "output_type": "display_data",
          "data": {
            "text/plain": [
              "<Figure size 432x288 with 1 Axes>"
            ],
            "image/png": "[encoded data removed]"
          },
          "metadata": {
            "needs_background": "light"
          }
        }
      ]
    },
    {
      "cell_type": "code",
      "source": [
        "df[\"ever_married\"].value_counts()\n",
        "sns.countplot(x=df[\"ever_married\"], data=df) "
      ],
      "metadata": {
        "colab": {
          "base_uri": "https://localhost:8080/",
          "height": 300
        },
        "id": "BtZS5QkhhVuM",
        "outputId": "b762f3ff-45d8-4c06-fa61-f10f4e7e10ed"
      },
      "execution_count": 17,
      "outputs": [
        {
          "output_type": "execute_result",
          "data": {
            "text/plain": [
              "<matplotlib.axes._subplots.AxesSubplot at 0x7f25ac44a5d0>"
            ]
          },
          "metadata": {},
          "execution_count": 17
        },
        {
          "output_type": "display_data",
          "data": {
            "text/plain": [
              "<Figure size 432x288 with 1 Axes>"
            ],
            "image/png": "[encoded data removed]"
          },
          "metadata": {
            "needs_background": "light"
          }
        }
      ]
    },
    {
      "cell_type": "code",
      "source": [
        "df[\"hypertension\"].value_counts()\n",
        "sns.countplot(x=df[\"hypertension\"], data=df) "
      ],
      "metadata": {
        "colab": {
          "base_uri": "https://localhost:8080/",
          "height": 296
        },
        "id": "4x-2SiVan6FI",
        "outputId": "e526367a-5904-45d0-9b1d-95e17bfce110"
      },
      "execution_count": 18,
      "outputs": [
        {
          "output_type": "execute_result",
          "data": {
            "text/plain": [
              "<matplotlib.axes._subplots.AxesSubplot at 0x7f25ac413c90>"
            ]
          },
          "metadata": {},
          "execution_count": 18
        },
        {
          "output_type": "display_data",
          "data": {
            "text/plain": [
              "<Figure size 432x288 with 1 Axes>"
            ],
            "image/png": "[encoded data removed]"
          },
          "metadata": {
            "needs_background": "light"
          }
        }
      ]
    },
    {
      "cell_type": "markdown",
      "source": [
        "**Answer: having had a look at the plots and correlation table above, I can drop: the residence_type column because the values are pretty much 50/50, and the gender column because there is not a big difference in between the two main categories (with Other being marginal).**"
      ],
      "metadata": {
        "id": "iFAOZak_kfui"
      }
    },
    {
      "cell_type": "code",
      "source": [
        "df = df.drop(['gender', 'Residence_type'], axis = 1)\n",
        "df.head()"
      ],
      "metadata": {
        "colab": {
          "base_uri": "https://localhost:8080/",
          "height": 206
        },
        "id": "xyAUXUg5ny1I",
        "outputId": "9f544c09-ab75-4f71-8462-79c1fe2981b7"
      },
      "execution_count": 19,
      "outputs": [
        {
          "output_type": "execute_result",
          "data": {
            "text/plain": [
              "      id   age  hypertension  heart_disease ever_married      work_type  \\\n",
              "0   9046  67.0             0              1          Yes        Private   \n",
              "1  51676  61.0             0              0          Yes  Self-employed   \n",
              "2  31112  80.0             0              1          Yes        Private   \n",
              "3  60182  49.0             0              0          Yes        Private   \n",
              "4   1665  79.0             1              0          Yes  Self-employed   \n",
              "\n",
              "   avg_glucose_level   bmi   smoking_status  stroke  \n",
              "0             228.69  36.6  formerly smoked       1  \n",
              "1             202.21  28.1     never smoked       1  \n",
              "2             105.92  32.5     never smoked       1  \n",
              "3             171.23  34.4           smokes       1  \n",
              "4             174.12  24.0     never smoked       1  "
            ],
            "text/html": [
              "\n",
              "  <div id=\"df-067b4ec3-57ec-4e1c-a822-6dc57e60dd93\">\n",
              "    <div class=\"colab-df-container\">\n",
              "      <div>\n",
              "<style scoped>\n",
              "    .dataframe tbody tr th:only-of-type {\n",
              "        vertical-align: middle;\n",
              "    }\n",
              "\n",
              "    .dataframe tbody tr th {\n",
              "        vertical-align: top;\n",
              "    }\n",
              "\n",
              "    .dataframe thead th {\n",
              "        text-align: right;\n",
              "    }\n",
              "</style>\n",
              "<table border=\"1\" class=\"dataframe\">\n",
              "  <thead>\n",
              "    <tr style=\"text-align: right;\">\n",
              "      <th></th>\n",
              "      <th>id</th>\n",
              "      <th>age</th>\n",
              "      <th>hypertension</th>\n",
              "      <th>heart_disease</th>\n",
              "      <th>ever_married</th>\n",
              "      <th>work_type</th>\n",
              "      <th>avg_glucose_level</th>\n",
              "      <th>bmi</th>\n",
              "      <th>smoking_status</th>\n",
              "      <th>stroke</th>\n",
              "    </tr>\n",
              "  </thead>\n",
              "  <tbody>\n",
              "    <tr>\n",
              "      <th>0</th>\n",
              "      <td>9046</td>\n",
              "      <td>67.0</td>\n",
              "      <td>0</td>\n",
              "      <td>1</td>\n",
              "      <td>Yes</td>\n",
              "      <td>Private</td>\n",
              "      <td>228.69</td>\n",
              "      <td>36.6</td>\n",
              "      <td>formerly smoked</td>\n",
              "      <td>1</td>\n",
              "    </tr>\n",
              "    <tr>\n",
              "      <th>1</th>\n",
              "      <td>51676</td>\n",
              "      <td>61.0</td>\n",
              "      <td>0</td>\n",
              "      <td>0</td>\n",
              "      <td>Yes</td>\n",
              "      <td>Self-employed</td>\n",
              "      <td>202.21</td>\n",
              "      <td>28.1</td>\n",
              "      <td>never smoked</td>\n",
              "      <td>1</td>\n",
              "    </tr>\n",
              "    <tr>\n",
              "      <th>2</th>\n",
              "      <td>31112</td>\n",
              "      <td>80.0</td>\n",
              "      <td>0</td>\n",
              "      <td>1</td>\n",
              "      <td>Yes</td>\n",
              "      <td>Private</td>\n",
              "      <td>105.92</td>\n",
              "      <td>32.5</td>\n",
              "      <td>never smoked</td>\n",
              "      <td>1</td>\n",
              "    </tr>\n",
              "    <tr>\n",
              "      <th>3</th>\n",
              "      <td>60182</td>\n",
              "      <td>49.0</td>\n",
              "      <td>0</td>\n",
              "      <td>0</td>\n",
              "      <td>Yes</td>\n",
              "      <td>Private</td>\n",
              "      <td>171.23</td>\n",
              "      <td>34.4</td>\n",
              "      <td>smokes</td>\n",
              "      <td>1</td>\n",
              "    </tr>\n",
              "    <tr>\n",
              "      <th>4</th>\n",
              "      <td>1665</td>\n",
              "      <td>79.0</td>\n",
              "      <td>1</td>\n",
              "      <td>0</td>\n",
              "      <td>Yes</td>\n",
              "      <td>Self-employed</td>\n",
              "      <td>174.12</td>\n",
              "      <td>24.0</td>\n",
              "      <td>never smoked</td>\n",
              "      <td>1</td>\n",
              "    </tr>\n",
              "  </tbody>\n",
              "</table>\n",
              "</div>\n",
              "      <button class=\"colab-df-convert\" onclick=\"convertToInteractive('df-067b4ec3-57ec-4e1c-a822-6dc57e60dd93')\"\n",
              "              title=\"Convert this dataframe to an interactive table.\"\n",
              "              style=\"display:none;\">\n",
              "        \n",
              "  <svg xmlns=\"http://www.w3.org/2000/svg\" height=\"24px\"viewBox=\"0 0 24 24\"\n",
              "       width=\"24px\">\n",
              "    <path d=\"M0 0h24v24H0V0z\" fill=\"none\"/>\n",
              "    <path d=\"M18.56 5.44l.94 2.06.94-2.06 2.06-.94-2.06-.94-.94-2.06-.94 2.06-2.06.94zm-11 1L8.5 8.5l.94-2.06 2.06-.94-2.06-.94L8.5 2.5l-.94 2.06-2.06.94zm10 10l.94 2.06.94-2.06 2.06-.94-2.06-.94-.94-2.06-.94 2.06-2.06.94z\"/><path d=\"M17.41 7.96l-1.37-1.37c-.4-.4-.92-.59-1.43-.59-.52 0-1.04.2-1.43.59L10.3 9.45l-7.72 7.72c-.78.78-.78 2.05 0 2.83L4 21.41c.39.39.9.59 1.41.59.51 0 1.02-.2 1.41-.59l7.78-7.78 2.81-2.81c.8-.78.8-2.07 0-2.86zM5.41 20L4 18.59l7.72-7.72 1.47 1.35L5.41 20z\"/>\n",
              "  </svg>\n",
              "      </button>\n",
              "      \n",
              "  <style>\n",
              "    .colab-df-container {\n",
              "      display:flex;\n",
              "      flex-wrap:wrap;\n",
              "      gap: 12px;\n",
              "    }\n",
              "\n",
              "    .colab-df-convert {\n",
              "      background-color: #E8F0FE;\n",
              "      border: none;\n",
              "      border-radius: 50%;\n",
              "      cursor: pointer;\n",
              "      display: none;\n",
              "      fill: #1967D2;\n",
              "      height: 32px;\n",
              "      padding: 0 0 0 0;\n",
              "      width: 32px;\n",
              "    }\n",
              "\n",
              "    .colab-df-convert:hover {\n",
              "      background-color: #E2EBFA;\n",
              "      box-shadow: 0px 1px 2px rgba(60, 64, 67, 0.3), 0px 1px 3px 1px rgba(60, 64, 67, 0.15);\n",
              "      fill: #174EA6;\n",
              "    }\n",
              "\n",
              "    [theme=dark] .colab-df-convert {\n",
              "      background-color: #3B4455;\n",
              "      fill: #D2E3FC;\n",
              "    }\n",
              "\n",
              "    [theme=dark] .colab-df-convert:hover {\n",
              "      background-color: #434B5C;\n",
              "      box-shadow: 0px 1px 3px 1px rgba(0, 0, 0, 0.15);\n",
              "      filter: drop-shadow(0px 1px 2px rgba(0, 0, 0, 0.3));\n",
              "      fill: #FFFFFF;\n",
              "    }\n",
              "  </style>\n",
              "\n",
              "      <script>\n",
              "        const buttonEl =\n",
              "          document.querySelector('#df-067b4ec3-57ec-4e1c-a822-6dc57e60dd93 button.colab-df-convert');\n",
              "        buttonEl.style.display =\n",
              "          google.colab.kernel.accessAllowed ? 'block' : 'none';\n",
              "\n",
              "        async function convertToInteractive(key) {\n",
              "          const element = document.querySelector('#df-067b4ec3-57ec-4e1c-a822-6dc57e60dd93');\n",
              "          const dataTable =\n",
              "            await google.colab.kernel.invokeFunction('convertToInteractive',\n",
              "                                                     [key], {});\n",
              "          if (!dataTable) return;\n",
              "\n",
              "          const docLinkHtml = 'Like what you see? Visit the ' +\n",
              "            '<a target=\"_blank\" href=https://colab.research.google.com/notebooks/data_table.ipynb>data table notebook</a>'\n",
              "            + ' to learn more about interactive tables.';\n",
              "          element.innerHTML = '';\n",
              "          dataTable['output_type'] = 'display_data';\n",
              "          await google.colab.output.renderOutput(dataTable, element);\n",
              "          const docLink = document.createElement('div');\n",
              "          docLink.innerHTML = docLinkHtml;\n",
              "          element.appendChild(docLink);\n",
              "        }\n",
              "      </script>\n",
              "    </div>\n",
              "  </div>\n",
              "  "
            ]
          },
          "metadata": {},
          "execution_count": 19
        }
      ]
    },
    {
      "cell_type": "code",
      "source": [
        "df.info()"
      ],
      "metadata": {
        "colab": {
          "base_uri": "https://localhost:8080/"
        },
        "id": "rAz8YI5snn9C",
        "outputId": "da924150-9d35-4f77-d471-c8a93dfc6d86"
      },
      "execution_count": 20,
      "outputs": [
        {
          "output_type": "stream",
          "name": "stdout",
          "text": [
            "<class 'pandas.core.frame.DataFrame'>\n",
            "RangeIndex: 5110 entries, 0 to 5109\n",
            "Data columns (total 10 columns):\n",
            " #   Column             Non-Null Count  Dtype  \n",
            "---  ------             --------------  -----  \n",
            " 0   id                 5110 non-null   int64  \n",
            " 1   age                5110 non-null   float64\n",
            " 2   hypertension       5110 non-null   int64  \n",
            " 3   heart_disease      5110 non-null   int64  \n",
            " 4   ever_married       5110 non-null   object \n",
            " 5   work_type          5110 non-null   object \n",
            " 6   avg_glucose_level  5110 non-null   float64\n",
            " 7   bmi                5110 non-null   float64\n",
            " 8   smoking_status     5110 non-null   object \n",
            " 9   stroke             5110 non-null   int64  \n",
            "dtypes: float64(3), int64(4), object(3)\n",
            "memory usage: 399.3+ KB\n"
          ]
        }
      ]
    },
    {
      "cell_type": "markdown",
      "source": [
        "Q. Are there any strings in the features that need to be converted to integers? Do you select One-Hot encoding or Label Encoding?"
      ],
      "metadata": {
        "id": "v3SRFiXRAzzu"
      }
    },
    {
      "cell_type": "markdown",
      "source": [
        "**Answer: having a look at the table above, I still have three columns that are objects and need converting to int. I will use label encoding to handle these categorical variables. With this approach, each value is assigned a unique integer.**"
      ],
      "metadata": {
        "id": "LolFSzENoR-_"
      }
    },
    {
      "cell_type": "code",
      "source": [
        "# ever_married:  ['Yes' 'No']\n",
        "df['ever_married'] = df['ever_married'].replace({'No':0, 'Yes': 1})\n",
        "df.head()"
      ],
      "metadata": {
        "id": "feWeqNtzOTWv",
        "colab": {
          "base_uri": "https://localhost:8080/",
          "height": 206
        },
        "outputId": "906951bd-fffd-44a0-a87b-a5b98b534f0f"
      },
      "execution_count": 21,
      "outputs": [
        {
          "output_type": "execute_result",
          "data": {
            "text/plain": [
              "      id   age  hypertension  heart_disease  ever_married      work_type  \\\n",
              "0   9046  67.0             0              1             1        Private   \n",
              "1  51676  61.0             0              0             1  Self-employed   \n",
              "2  31112  80.0             0              1             1        Private   \n",
              "3  60182  49.0             0              0             1        Private   \n",
              "4   1665  79.0             1              0             1  Self-employed   \n",
              "\n",
              "   avg_glucose_level   bmi   smoking_status  stroke  \n",
              "0             228.69  36.6  formerly smoked       1  \n",
              "1             202.21  28.1     never smoked       1  \n",
              "2             105.92  32.5     never smoked       1  \n",
              "3             171.23  34.4           smokes       1  \n",
              "4             174.12  24.0     never smoked       1  "
            ],
            "text/html": [
              "\n",
              "  <div id=\"df-88ff1672-253a-412e-884b-45e7fdc8acaa\">\n",
              "    <div class=\"colab-df-container\">\n",
              "      <div>\n",
              "<style scoped>\n",
              "    .dataframe tbody tr th:only-of-type {\n",
              "        vertical-align: middle;\n",
              "    }\n",
              "\n",
              "    .dataframe tbody tr th {\n",
              "        vertical-align: top;\n",
              "    }\n",
              "\n",
              "    .dataframe thead th {\n",
              "        text-align: right;\n",
              "    }\n",
              "</style>\n",
              "<table border=\"1\" class=\"dataframe\">\n",
              "  <thead>\n",
              "    <tr style=\"text-align: right;\">\n",
              "      <th></th>\n",
              "      <th>id</th>\n",
              "      <th>age</th>\n",
              "      <th>hypertension</th>\n",
              "      <th>heart_disease</th>\n",
              "      <th>ever_married</th>\n",
              "      <th>work_type</th>\n",
              "      <th>avg_glucose_level</th>\n",
              "      <th>bmi</th>\n",
              "      <th>smoking_status</th>\n",
              "      <th>stroke</th>\n",
              "    </tr>\n",
              "  </thead>\n",
              "  <tbody>\n",
              "    <tr>\n",
              "      <th>0</th>\n",
              "      <td>9046</td>\n",
              "      <td>67.0</td>\n",
              "      <td>0</td>\n",
              "      <td>1</td>\n",
              "      <td>1</td>\n",
              "      <td>Private</td>\n",
              "      <td>228.69</td>\n",
              "      <td>36.6</td>\n",
              "      <td>formerly smoked</td>\n",
              "      <td>1</td>\n",
              "    </tr>\n",
              "    <tr>\n",
              "      <th>1</th>\n",
              "      <td>51676</td>\n",
              "      <td>61.0</td>\n",
              "      <td>0</td>\n",
              "      <td>0</td>\n",
              "      <td>1</td>\n",
              "      <td>Self-employed</td>\n",
              "      <td>202.21</td>\n",
              "      <td>28.1</td>\n",
              "      <td>never smoked</td>\n",
              "      <td>1</td>\n",
              "    </tr>\n",
              "    <tr>\n",
              "      <th>2</th>\n",
              "      <td>31112</td>\n",
              "      <td>80.0</td>\n",
              "      <td>0</td>\n",
              "      <td>1</td>\n",
              "      <td>1</td>\n",
              "      <td>Private</td>\n",
              "      <td>105.92</td>\n",
              "      <td>32.5</td>\n",
              "      <td>never smoked</td>\n",
              "      <td>1</td>\n",
              "    </tr>\n",
              "    <tr>\n",
              "      <th>3</th>\n",
              "      <td>60182</td>\n",
              "      <td>49.0</td>\n",
              "      <td>0</td>\n",
              "      <td>0</td>\n",
              "      <td>1</td>\n",
              "      <td>Private</td>\n",
              "      <td>171.23</td>\n",
              "      <td>34.4</td>\n",
              "      <td>smokes</td>\n",
              "      <td>1</td>\n",
              "    </tr>\n",
              "    <tr>\n",
              "      <th>4</th>\n",
              "      <td>1665</td>\n",
              "      <td>79.0</td>\n",
              "      <td>1</td>\n",
              "      <td>0</td>\n",
              "      <td>1</td>\n",
              "      <td>Self-employed</td>\n",
              "      <td>174.12</td>\n",
              "      <td>24.0</td>\n",
              "      <td>never smoked</td>\n",
              "      <td>1</td>\n",
              "    </tr>\n",
              "  </tbody>\n",
              "</table>\n",
              "</div>\n",
              "      <button class=\"colab-df-convert\" onclick=\"convertToInteractive('df-88ff1672-253a-412e-884b-45e7fdc8acaa')\"\n",
              "              title=\"Convert this dataframe to an interactive table.\"\n",
              "              style=\"display:none;\">\n",
              "        \n",
              "  <svg xmlns=\"http://www.w3.org/2000/svg\" height=\"24px\"viewBox=\"0 0 24 24\"\n",
              "       width=\"24px\">\n",
              "    <path d=\"M0 0h24v24H0V0z\" fill=\"none\"/>\n",
              "    <path d=\"M18.56 5.44l.94 2.06.94-2.06 2.06-.94-2.06-.94-.94-2.06-.94 2.06-2.06.94zm-11 1L8.5 8.5l.94-2.06 2.06-.94-2.06-.94L8.5 2.5l-.94 2.06-2.06.94zm10 10l.94 2.06.94-2.06 2.06-.94-2.06-.94-.94-2.06-.94 2.06-2.06.94z\"/><path d=\"M17.41 7.96l-1.37-1.37c-.4-.4-.92-.59-1.43-.59-.52 0-1.04.2-1.43.59L10.3 9.45l-7.72 7.72c-.78.78-.78 2.05 0 2.83L4 21.41c.39.39.9.59 1.41.59.51 0 1.02-.2 1.41-.59l7.78-7.78 2.81-2.81c.8-.78.8-2.07 0-2.86zM5.41 20L4 18.59l7.72-7.72 1.47 1.35L5.41 20z\"/>\n",
              "  </svg>\n",
              "      </button>\n",
              "      \n",
              "  <style>\n",
              "    .colab-df-container {\n",
              "      display:flex;\n",
              "      flex-wrap:wrap;\n",
              "      gap: 12px;\n",
              "    }\n",
              "\n",
              "    .colab-df-convert {\n",
              "      background-color: #E8F0FE;\n",
              "      border: none;\n",
              "      border-radius: 50%;\n",
              "      cursor: pointer;\n",
              "      display: none;\n",
              "      fill: #1967D2;\n",
              "      height: 32px;\n",
              "      padding: 0 0 0 0;\n",
              "      width: 32px;\n",
              "    }\n",
              "\n",
              "    .colab-df-convert:hover {\n",
              "      background-color: #E2EBFA;\n",
              "      box-shadow: 0px 1px 2px rgba(60, 64, 67, 0.3), 0px 1px 3px 1px rgba(60, 64, 67, 0.15);\n",
              "      fill: #174EA6;\n",
              "    }\n",
              "\n",
              "    [theme=dark] .colab-df-convert {\n",
              "      background-color: #3B4455;\n",
              "      fill: #D2E3FC;\n",
              "    }\n",
              "\n",
              "    [theme=dark] .colab-df-convert:hover {\n",
              "      background-color: #434B5C;\n",
              "      box-shadow: 0px 1px 3px 1px rgba(0, 0, 0, 0.15);\n",
              "      filter: drop-shadow(0px 1px 2px rgba(0, 0, 0, 0.3));\n",
              "      fill: #FFFFFF;\n",
              "    }\n",
              "  </style>\n",
              "\n",
              "      <script>\n",
              "        const buttonEl =\n",
              "          document.querySelector('#df-88ff1672-253a-412e-884b-45e7fdc8acaa button.colab-df-convert');\n",
              "        buttonEl.style.display =\n",
              "          google.colab.kernel.accessAllowed ? 'block' : 'none';\n",
              "\n",
              "        async function convertToInteractive(key) {\n",
              "          const element = document.querySelector('#df-88ff1672-253a-412e-884b-45e7fdc8acaa');\n",
              "          const dataTable =\n",
              "            await google.colab.kernel.invokeFunction('convertToInteractive',\n",
              "                                                     [key], {});\n",
              "          if (!dataTable) return;\n",
              "\n",
              "          const docLinkHtml = 'Like what you see? Visit the ' +\n",
              "            '<a target=\"_blank\" href=https://colab.research.google.com/notebooks/data_table.ipynb>data table notebook</a>'\n",
              "            + ' to learn more about interactive tables.';\n",
              "          element.innerHTML = '';\n",
              "          dataTable['output_type'] = 'display_data';\n",
              "          await google.colab.output.renderOutput(dataTable, element);\n",
              "          const docLink = document.createElement('div');\n",
              "          docLink.innerHTML = docLinkHtml;\n",
              "          element.appendChild(docLink);\n",
              "        }\n",
              "      </script>\n",
              "    </div>\n",
              "  </div>\n",
              "  "
            ]
          },
          "metadata": {},
          "execution_count": 21
        }
      ]
    },
    {
      "cell_type": "code",
      "source": [
        "# work_type:  ['Private' 'Self-employed' 'Govt_job' 'children' 'Never_worked']\n",
        "df['work_type'] = df['work_type'].replace({'Private':0, 'Self-employed': 1, 'Govt_job':2, 'Never_worked': 3, 'children': 4})\n",
        "df.head()"
      ],
      "metadata": {
        "colab": {
          "base_uri": "https://localhost:8080/",
          "height": 206
        },
        "id": "jUM2Dbmpp5PH",
        "outputId": "e554bc56-6b33-4941-a44f-2c8cb33b9d84"
      },
      "execution_count": 22,
      "outputs": [
        {
          "output_type": "execute_result",
          "data": {
            "text/plain": [
              "      id   age  hypertension  heart_disease  ever_married  work_type  \\\n",
              "0   9046  67.0             0              1             1          0   \n",
              "1  51676  61.0             0              0             1          1   \n",
              "2  31112  80.0             0              1             1          0   \n",
              "3  60182  49.0             0              0             1          0   \n",
              "4   1665  79.0             1              0             1          1   \n",
              "\n",
              "   avg_glucose_level   bmi   smoking_status  stroke  \n",
              "0             228.69  36.6  formerly smoked       1  \n",
              "1             202.21  28.1     never smoked       1  \n",
              "2             105.92  32.5     never smoked       1  \n",
              "3             171.23  34.4           smokes       1  \n",
              "4             174.12  24.0     never smoked       1  "
            ],
            "text/html": [
              "\n",
              "  <div id=\"df-5afeb629-148c-4fc8-ac97-2de32adab4a9\">\n",
              "    <div class=\"colab-df-container\">\n",
              "      <div>\n",
              "<style scoped>\n",
              "    .dataframe tbody tr th:only-of-type {\n",
              "        vertical-align: middle;\n",
              "    }\n",
              "\n",
              "    .dataframe tbody tr th {\n",
              "        vertical-align: top;\n",
              "    }\n",
              "\n",
              "    .dataframe thead th {\n",
              "        text-align: right;\n",
              "    }\n",
              "</style>\n",
              "<table border=\"1\" class=\"dataframe\">\n",
              "  <thead>\n",
              "    <tr style=\"text-align: right;\">\n",
              "      <th></th>\n",
              "      <th>id</th>\n",
              "      <th>age</th>\n",
              "      <th>hypertension</th>\n",
              "      <th>heart_disease</th>\n",
              "      <th>ever_married</th>\n",
              "      <th>work_type</th>\n",
              "      <th>avg_glucose_level</th>\n",
              "      <th>bmi</th>\n",
              "      <th>smoking_status</th>\n",
              "      <th>stroke</th>\n",
              "    </tr>\n",
              "  </thead>\n",
              "  <tbody>\n",
              "    <tr>\n",
              "      <th>0</th>\n",
              "      <td>9046</td>\n",
              "      <td>67.0</td>\n",
              "      <td>0</td>\n",
              "      <td>1</td>\n",
              "      <td>1</td>\n",
              "      <td>0</td>\n",
              "      <td>228.69</td>\n",
              "      <td>36.6</td>\n",
              "      <td>formerly smoked</td>\n",
              "      <td>1</td>\n",
              "    </tr>\n",
              "    <tr>\n",
              "      <th>1</th>\n",
              "      <td>51676</td>\n",
              "      <td>61.0</td>\n",
              "      <td>0</td>\n",
              "      <td>0</td>\n",
              "      <td>1</td>\n",
              "      <td>1</td>\n",
              "      <td>202.21</td>\n",
              "      <td>28.1</td>\n",
              "      <td>never smoked</td>\n",
              "      <td>1</td>\n",
              "    </tr>\n",
              "    <tr>\n",
              "      <th>2</th>\n",
              "      <td>31112</td>\n",
              "      <td>80.0</td>\n",
              "      <td>0</td>\n",
              "      <td>1</td>\n",
              "      <td>1</td>\n",
              "      <td>0</td>\n",
              "      <td>105.92</td>\n",
              "      <td>32.5</td>\n",
              "      <td>never smoked</td>\n",
              "      <td>1</td>\n",
              "    </tr>\n",
              "    <tr>\n",
              "      <th>3</th>\n",
              "      <td>60182</td>\n",
              "      <td>49.0</td>\n",
              "      <td>0</td>\n",
              "      <td>0</td>\n",
              "      <td>1</td>\n",
              "      <td>0</td>\n",
              "      <td>171.23</td>\n",
              "      <td>34.4</td>\n",
              "      <td>smokes</td>\n",
              "      <td>1</td>\n",
              "    </tr>\n",
              "    <tr>\n",
              "      <th>4</th>\n",
              "      <td>1665</td>\n",
              "      <td>79.0</td>\n",
              "      <td>1</td>\n",
              "      <td>0</td>\n",
              "      <td>1</td>\n",
              "      <td>1</td>\n",
              "      <td>174.12</td>\n",
              "      <td>24.0</td>\n",
              "      <td>never smoked</td>\n",
              "      <td>1</td>\n",
              "    </tr>\n",
              "  </tbody>\n",
              "</table>\n",
              "</div>\n",
              "      <button class=\"colab-df-convert\" onclick=\"convertToInteractive('df-5afeb629-148c-4fc8-ac97-2de32adab4a9')\"\n",
              "              title=\"Convert this dataframe to an interactive table.\"\n",
              "              style=\"display:none;\">\n",
              "        \n",
              "  <svg xmlns=\"http://www.w3.org/2000/svg\" height=\"24px\"viewBox=\"0 0 24 24\"\n",
              "       width=\"24px\">\n",
              "    <path d=\"M0 0h24v24H0V0z\" fill=\"none\"/>\n",
              "    <path d=\"M18.56 5.44l.94 2.06.94-2.06 2.06-.94-2.06-.94-.94-2.06-.94 2.06-2.06.94zm-11 1L8.5 8.5l.94-2.06 2.06-.94-2.06-.94L8.5 2.5l-.94 2.06-2.06.94zm10 10l.94 2.06.94-2.06 2.06-.94-2.06-.94-.94-2.06-.94 2.06-2.06.94z\"/><path d=\"M17.41 7.96l-1.37-1.37c-.4-.4-.92-.59-1.43-.59-.52 0-1.04.2-1.43.59L10.3 9.45l-7.72 7.72c-.78.78-.78 2.05 0 2.83L4 21.41c.39.39.9.59 1.41.59.51 0 1.02-.2 1.41-.59l7.78-7.78 2.81-2.81c.8-.78.8-2.07 0-2.86zM5.41 20L4 18.59l7.72-7.72 1.47 1.35L5.41 20z\"/>\n",
              "  </svg>\n",
              "      </button>\n",
              "      \n",
              "  <style>\n",
              "    .colab-df-container {\n",
              "      display:flex;\n",
              "      flex-wrap:wrap;\n",
              "      gap: 12px;\n",
              "    }\n",
              "\n",
              "    .colab-df-convert {\n",
              "      background-color: #E8F0FE;\n",
              "      border: none;\n",
              "      border-radius: 50%;\n",
              "      cursor: pointer;\n",
              "      display: none;\n",
              "      fill: #1967D2;\n",
              "      height: 32px;\n",
              "      padding: 0 0 0 0;\n",
              "      width: 32px;\n",
              "    }\n",
              "\n",
              "    .colab-df-convert:hover {\n",
              "      background-color: #E2EBFA;\n",
              "      box-shadow: 0px 1px 2px rgba(60, 64, 67, 0.3), 0px 1px 3px 1px rgba(60, 64, 67, 0.15);\n",
              "      fill: #174EA6;\n",
              "    }\n",
              "\n",
              "    [theme=dark] .colab-df-convert {\n",
              "      background-color: #3B4455;\n",
              "      fill: #D2E3FC;\n",
              "    }\n",
              "\n",
              "    [theme=dark] .colab-df-convert:hover {\n",
              "      background-color: #434B5C;\n",
              "      box-shadow: 0px 1px 3px 1px rgba(0, 0, 0, 0.15);\n",
              "      filter: drop-shadow(0px 1px 2px rgba(0, 0, 0, 0.3));\n",
              "      fill: #FFFFFF;\n",
              "    }\n",
              "  </style>\n",
              "\n",
              "      <script>\n",
              "        const buttonEl =\n",
              "          document.querySelector('#df-5afeb629-148c-4fc8-ac97-2de32adab4a9 button.colab-df-convert');\n",
              "        buttonEl.style.display =\n",
              "          google.colab.kernel.accessAllowed ? 'block' : 'none';\n",
              "\n",
              "        async function convertToInteractive(key) {\n",
              "          const element = document.querySelector('#df-5afeb629-148c-4fc8-ac97-2de32adab4a9');\n",
              "          const dataTable =\n",
              "            await google.colab.kernel.invokeFunction('convertToInteractive',\n",
              "                                                     [key], {});\n",
              "          if (!dataTable) return;\n",
              "\n",
              "          const docLinkHtml = 'Like what you see? Visit the ' +\n",
              "            '<a target=\"_blank\" href=https://colab.research.google.com/notebooks/data_table.ipynb>data table notebook</a>'\n",
              "            + ' to learn more about interactive tables.';\n",
              "          element.innerHTML = '';\n",
              "          dataTable['output_type'] = 'display_data';\n",
              "          await google.colab.output.renderOutput(dataTable, element);\n",
              "          const docLink = document.createElement('div');\n",
              "          docLink.innerHTML = docLinkHtml;\n",
              "          element.appendChild(docLink);\n",
              "        }\n",
              "      </script>\n",
              "    </div>\n",
              "  </div>\n",
              "  "
            ]
          },
          "metadata": {},
          "execution_count": 22
        }
      ]
    },
    {
      "cell_type": "code",
      "source": [
        "# smoking_status:  ['formerly smoked' 'never smoked' 'smokes' 'Unknown']\n",
        "df['smoking_status'] = df['smoking_status'].replace({'formerly smoked':0, 'never smoked': 1, 'smokes':2, 'Unknown': 3})\n",
        "df.head()"
      ],
      "metadata": {
        "colab": {
          "base_uri": "https://localhost:8080/",
          "height": 206
        },
        "id": "Ewe5LTwAp7Hy",
        "outputId": "1942c87d-7143-4c6e-ba35-18bf81bae5f2"
      },
      "execution_count": 23,
      "outputs": [
        {
          "output_type": "execute_result",
          "data": {
            "text/plain": [
              "      id   age  hypertension  heart_disease  ever_married  work_type  \\\n",
              "0   9046  67.0             0              1             1          0   \n",
              "1  51676  61.0             0              0             1          1   \n",
              "2  31112  80.0             0              1             1          0   \n",
              "3  60182  49.0             0              0             1          0   \n",
              "4   1665  79.0             1              0             1          1   \n",
              "\n",
              "   avg_glucose_level   bmi  smoking_status  stroke  \n",
              "0             228.69  36.6               0       1  \n",
              "1             202.21  28.1               1       1  \n",
              "2             105.92  32.5               1       1  \n",
              "3             171.23  34.4               2       1  \n",
              "4             174.12  24.0               1       1  "
            ],
            "text/html": [
              "\n",
              "  <div id=\"df-32dba2e1-1c34-4fa2-97b6-6a1f54bc9da7\">\n",
              "    <div class=\"colab-df-container\">\n",
              "      <div>\n",
              "<style scoped>\n",
              "    .dataframe tbody tr th:only-of-type {\n",
              "        vertical-align: middle;\n",
              "    }\n",
              "\n",
              "    .dataframe tbody tr th {\n",
              "        vertical-align: top;\n",
              "    }\n",
              "\n",
              "    .dataframe thead th {\n",
              "        text-align: right;\n",
              "    }\n",
              "</style>\n",
              "<table border=\"1\" class=\"dataframe\">\n",
              "  <thead>\n",
              "    <tr style=\"text-align: right;\">\n",
              "      <th></th>\n",
              "      <th>id</th>\n",
              "      <th>age</th>\n",
              "      <th>hypertension</th>\n",
              "      <th>heart_disease</th>\n",
              "      <th>ever_married</th>\n",
              "      <th>work_type</th>\n",
              "      <th>avg_glucose_level</th>\n",
              "      <th>bmi</th>\n",
              "      <th>smoking_status</th>\n",
              "      <th>stroke</th>\n",
              "    </tr>\n",
              "  </thead>\n",
              "  <tbody>\n",
              "    <tr>\n",
              "      <th>0</th>\n",
              "      <td>9046</td>\n",
              "      <td>67.0</td>\n",
              "      <td>0</td>\n",
              "      <td>1</td>\n",
              "      <td>1</td>\n",
              "      <td>0</td>\n",
              "      <td>228.69</td>\n",
              "      <td>36.6</td>\n",
              "      <td>0</td>\n",
              "      <td>1</td>\n",
              "    </tr>\n",
              "    <tr>\n",
              "      <th>1</th>\n",
              "      <td>51676</td>\n",
              "      <td>61.0</td>\n",
              "      <td>0</td>\n",
              "      <td>0</td>\n",
              "      <td>1</td>\n",
              "      <td>1</td>\n",
              "      <td>202.21</td>\n",
              "      <td>28.1</td>\n",
              "      <td>1</td>\n",
              "      <td>1</td>\n",
              "    </tr>\n",
              "    <tr>\n",
              "      <th>2</th>\n",
              "      <td>31112</td>\n",
              "      <td>80.0</td>\n",
              "      <td>0</td>\n",
              "      <td>1</td>\n",
              "      <td>1</td>\n",
              "      <td>0</td>\n",
              "      <td>105.92</td>\n",
              "      <td>32.5</td>\n",
              "      <td>1</td>\n",
              "      <td>1</td>\n",
              "    </tr>\n",
              "    <tr>\n",
              "      <th>3</th>\n",
              "      <td>60182</td>\n",
              "      <td>49.0</td>\n",
              "      <td>0</td>\n",
              "      <td>0</td>\n",
              "      <td>1</td>\n",
              "      <td>0</td>\n",
              "      <td>171.23</td>\n",
              "      <td>34.4</td>\n",
              "      <td>2</td>\n",
              "      <td>1</td>\n",
              "    </tr>\n",
              "    <tr>\n",
              "      <th>4</th>\n",
              "      <td>1665</td>\n",
              "      <td>79.0</td>\n",
              "      <td>1</td>\n",
              "      <td>0</td>\n",
              "      <td>1</td>\n",
              "      <td>1</td>\n",
              "      <td>174.12</td>\n",
              "      <td>24.0</td>\n",
              "      <td>1</td>\n",
              "      <td>1</td>\n",
              "    </tr>\n",
              "  </tbody>\n",
              "</table>\n",
              "</div>\n",
              "      <button class=\"colab-df-convert\" onclick=\"convertToInteractive('df-32dba2e1-1c34-4fa2-97b6-6a1f54bc9da7')\"\n",
              "              title=\"Convert this dataframe to an interactive table.\"\n",
              "              style=\"display:none;\">\n",
              "        \n",
              "  <svg xmlns=\"http://www.w3.org/2000/svg\" height=\"24px\"viewBox=\"0 0 24 24\"\n",
              "       width=\"24px\">\n",
              "    <path d=\"M0 0h24v24H0V0z\" fill=\"none\"/>\n",
              "    <path d=\"M18.56 5.44l.94 2.06.94-2.06 2.06-.94-2.06-.94-.94-2.06-.94 2.06-2.06.94zm-11 1L8.5 8.5l.94-2.06 2.06-.94-2.06-.94L8.5 2.5l-.94 2.06-2.06.94zm10 10l.94 2.06.94-2.06 2.06-.94-2.06-.94-.94-2.06-.94 2.06-2.06.94z\"/><path d=\"M17.41 7.96l-1.37-1.37c-.4-.4-.92-.59-1.43-.59-.52 0-1.04.2-1.43.59L10.3 9.45l-7.72 7.72c-.78.78-.78 2.05 0 2.83L4 21.41c.39.39.9.59 1.41.59.51 0 1.02-.2 1.41-.59l7.78-7.78 2.81-2.81c.8-.78.8-2.07 0-2.86zM5.41 20L4 18.59l7.72-7.72 1.47 1.35L5.41 20z\"/>\n",
              "  </svg>\n",
              "      </button>\n",
              "      \n",
              "  <style>\n",
              "    .colab-df-container {\n",
              "      display:flex;\n",
              "      flex-wrap:wrap;\n",
              "      gap: 12px;\n",
              "    }\n",
              "\n",
              "    .colab-df-convert {\n",
              "      background-color: #E8F0FE;\n",
              "      border: none;\n",
              "      border-radius: 50%;\n",
              "      cursor: pointer;\n",
              "      display: none;\n",
              "      fill: #1967D2;\n",
              "      height: 32px;\n",
              "      padding: 0 0 0 0;\n",
              "      width: 32px;\n",
              "    }\n",
              "\n",
              "    .colab-df-convert:hover {\n",
              "      background-color: #E2EBFA;\n",
              "      box-shadow: 0px 1px 2px rgba(60, 64, 67, 0.3), 0px 1px 3px 1px rgba(60, 64, 67, 0.15);\n",
              "      fill: #174EA6;\n",
              "    }\n",
              "\n",
              "    [theme=dark] .colab-df-convert {\n",
              "      background-color: #3B4455;\n",
              "      fill: #D2E3FC;\n",
              "    }\n",
              "\n",
              "    [theme=dark] .colab-df-convert:hover {\n",
              "      background-color: #434B5C;\n",
              "      box-shadow: 0px 1px 3px 1px rgba(0, 0, 0, 0.15);\n",
              "      filter: drop-shadow(0px 1px 2px rgba(0, 0, 0, 0.3));\n",
              "      fill: #FFFFFF;\n",
              "    }\n",
              "  </style>\n",
              "\n",
              "      <script>\n",
              "        const buttonEl =\n",
              "          document.querySelector('#df-32dba2e1-1c34-4fa2-97b6-6a1f54bc9da7 button.colab-df-convert');\n",
              "        buttonEl.style.display =\n",
              "          google.colab.kernel.accessAllowed ? 'block' : 'none';\n",
              "\n",
              "        async function convertToInteractive(key) {\n",
              "          const element = document.querySelector('#df-32dba2e1-1c34-4fa2-97b6-6a1f54bc9da7');\n",
              "          const dataTable =\n",
              "            await google.colab.kernel.invokeFunction('convertToInteractive',\n",
              "                                                     [key], {});\n",
              "          if (!dataTable) return;\n",
              "\n",
              "          const docLinkHtml = 'Like what you see? Visit the ' +\n",
              "            '<a target=\"_blank\" href=https://colab.research.google.com/notebooks/data_table.ipynb>data table notebook</a>'\n",
              "            + ' to learn more about interactive tables.';\n",
              "          element.innerHTML = '';\n",
              "          dataTable['output_type'] = 'display_data';\n",
              "          await google.colab.output.renderOutput(dataTable, element);\n",
              "          const docLink = document.createElement('div');\n",
              "          docLink.innerHTML = docLinkHtml;\n",
              "          element.appendChild(docLink);\n",
              "        }\n",
              "      </script>\n",
              "    </div>\n",
              "  </div>\n",
              "  "
            ]
          },
          "metadata": {},
          "execution_count": 23
        }
      ]
    },
    {
      "cell_type": "code",
      "source": [
        "# checking a plot to see if I see the same as above:\n",
        "df[\"work_type\"].value_counts()\n",
        "sns.countplot(x=df[\"work_type\"], data=df) # I see the same (4 is children)"
      ],
      "metadata": {
        "colab": {
          "base_uri": "https://localhost:8080/",
          "height": 298
        },
        "id": "adyvW51Mq8_2",
        "outputId": "67dfd200-4579-45de-b3eb-0ce116974ac9"
      },
      "execution_count": 24,
      "outputs": [
        {
          "output_type": "execute_result",
          "data": {
            "text/plain": [
              "<matplotlib.axes._subplots.AxesSubplot at 0x7f25af6b3f90>"
            ]
          },
          "metadata": {},
          "execution_count": 24
        },
        {
          "output_type": "display_data",
          "data": {
            "text/plain": [
              "<Figure size 432x288 with 1 Axes>"
            ],
            "image/png": "[encoded data removed]"
          },
          "metadata": {
            "needs_background": "light"
          }
        }
      ]
    },
    {
      "cell_type": "code",
      "source": [
        "# last check - everything has been converted properly\n",
        "df.info()"
      ],
      "metadata": {
        "colab": {
          "base_uri": "https://localhost:8080/"
        },
        "id": "c_CuH9rvrQnQ",
        "outputId": "5c3bd359-9d3c-412c-ec22-5cd7fbc71b7f"
      },
      "execution_count": 25,
      "outputs": [
        {
          "output_type": "stream",
          "name": "stdout",
          "text": [
            "<class 'pandas.core.frame.DataFrame'>\n",
            "RangeIndex: 5110 entries, 0 to 5109\n",
            "Data columns (total 10 columns):\n",
            " #   Column             Non-Null Count  Dtype  \n",
            "---  ------             --------------  -----  \n",
            " 0   id                 5110 non-null   int64  \n",
            " 1   age                5110 non-null   float64\n",
            " 2   hypertension       5110 non-null   int64  \n",
            " 3   heart_disease      5110 non-null   int64  \n",
            " 4   ever_married       5110 non-null   int64  \n",
            " 5   work_type          5110 non-null   int64  \n",
            " 6   avg_glucose_level  5110 non-null   float64\n",
            " 7   bmi                5110 non-null   float64\n",
            " 8   smoking_status     5110 non-null   int64  \n",
            " 9   stroke             5110 non-null   int64  \n",
            "dtypes: float64(3), int64(7)\n",
            "memory usage: 399.3 KB\n"
          ]
        }
      ]
    },
    {
      "cell_type": "markdown",
      "source": [
        "Q. Is there any imbalance in the label\n",
        "?"
      ],
      "metadata": {
        "id": "EUIqah7h_LAW"
      }
    },
    {
      "cell_type": "code",
      "source": [
        "df['stroke'].value_counts()"
      ],
      "metadata": {
        "colab": {
          "base_uri": "https://localhost:8080/"
        },
        "id": "Gxr0sywN6SlL",
        "outputId": "8f37028e-e3f3-473c-afa8-b141cf932fa3"
      },
      "execution_count": 26,
      "outputs": [
        {
          "output_type": "execute_result",
          "data": {
            "text/plain": [
              "0    4861\n",
              "1     249\n",
              "Name: stroke, dtype: int64"
            ]
          },
          "metadata": {},
          "execution_count": 26
        }
      ]
    },
    {
      "cell_type": "code",
      "source": [
        "stroke_f = df[df['stroke'] == 0]\n",
        "print('Percentage of people who have not had a stroke:', len(stroke_f)/len(df)*100,'%')"
      ],
      "metadata": {
        "colab": {
          "base_uri": "https://localhost:8080/"
        },
        "id": "clolp2wX8vaf",
        "outputId": "32469c72-6e58-4647-a2ac-941a27a203cb"
      },
      "execution_count": 27,
      "outputs": [
        {
          "output_type": "stream",
          "name": "stdout",
          "text": [
            "Percentage of people who have not had a stroke: 95.12720156555773 %\n"
          ]
        }
      ]
    },
    {
      "cell_type": "markdown",
      "source": [
        "**Answer: this dataset shows a higher representation of people who have not had a stroke, which means that this feature can be skewed and the problem is that our model may be biased towards the majority class.**"
      ],
      "metadata": {
        "id": "2eI9MXR29Qg3"
      }
    },
    {
      "cell_type": "markdown",
      "source": [
        "Q. Are there any outliers in the dataset? What do you do with them?"
      ],
      "metadata": {
        "id": "v9gQBGnZ_QiC"
      }
    },
    {
      "cell_type": "code",
      "source": [
        "from scipy.stats import zscore"
      ],
      "metadata": {
        "id": "3qLuwfTDAzbf"
      },
      "execution_count": 28,
      "outputs": []
    },
    {
      "cell_type": "code",
      "source": [
        "data = df.apply(zscore)\n",
        "data"
      ],
      "metadata": {
        "colab": {
          "base_uri": "https://localhost:8080/",
          "height": 423
        },
        "id": "nRgnDEzmsC5-",
        "outputId": "9da30202-3583-47b1-91fc-08ff3e0f9d47"
      },
      "execution_count": 29,
      "outputs": [
        {
          "output_type": "execute_result",
          "data": {
            "text/plain": [
              "            id       age  hypertension  heart_disease  ever_married  \\\n",
              "0    -1.298312  1.051434     -0.328602       4.185032      0.723884   \n",
              "1     0.716371  0.786070     -0.328602      -0.238947      0.723884   \n",
              "2    -0.255478  1.626390     -0.328602       4.185032      0.723884   \n",
              "3     1.118363  0.255342     -0.328602      -0.238947      0.723884   \n",
              "4    -1.647136  1.582163      3.043196      -0.238947      0.723884   \n",
              "...        ...       ...           ...            ...           ...   \n",
              "5105 -0.864089  1.626390      3.043196      -0.238947      0.723884   \n",
              "5106  0.394863  1.670617     -0.328602      -0.238947      0.723884   \n",
              "5107 -0.793720 -0.363842     -0.328602      -0.238947      0.723884   \n",
              "5108  0.048497  0.343796     -0.328602      -0.238947      0.723884   \n",
              "5109  0.385695  0.034205     -0.328602      -0.238947      0.723884   \n",
              "\n",
              "      work_type  avg_glucose_level       bmi  smoking_status    stroke  \n",
              "0     -0.697368           2.706375  1.005086       -1.451388  4.418381  \n",
              "1      0.022978           2.121559 -0.098981       -0.535985  4.418381  \n",
              "2     -0.697368          -0.005028  0.472536       -0.535985  4.418381  \n",
              "3     -0.697368           1.437358  0.719327        0.379417  4.418381  \n",
              "4      0.022978           1.501184 -0.631531       -0.535985  4.418381  \n",
              "...         ...                ...       ...             ...       ...  \n",
              "5105  -0.697368          -0.494658 -0.098981       -0.535985 -0.226327  \n",
              "5106   0.022978           0.420775  1.446713       -0.535985 -0.226327  \n",
              "5107   0.022978          -0.511443  0.225745       -0.535985 -0.226327  \n",
              "5108  -0.697368           1.328257 -0.423706       -1.451388 -0.226327  \n",
              "5109   0.743323          -0.460867 -0.345772        1.294820 -0.226327  \n",
              "\n",
              "[5110 rows x 10 columns]"
            ],
            "text/html": [
              "\n",
              "  <div id=\"df-0cac5afb-2711-4313-8976-5e52510476df\">\n",
              "    <div class=\"colab-df-container\">\n",
              "      <div>\n",
              "<style scoped>\n",
              "    .dataframe tbody tr th:only-of-type {\n",
              "        vertical-align: middle;\n",
              "    }\n",
              "\n",
              "    .dataframe tbody tr th {\n",
              "        vertical-align: top;\n",
              "    }\n",
              "\n",
              "    .dataframe thead th {\n",
              "        text-align: right;\n",
              "    }\n",
              "</style>\n",
              "<table border=\"1\" class=\"dataframe\">\n",
              "  <thead>\n",
              "    <tr style=\"text-align: right;\">\n",
              "      <th></th>\n",
              "      <th>id</th>\n",
              "      <th>age</th>\n",
              "      <th>hypertension</th>\n",
              "      <th>heart_disease</th>\n",
              "      <th>ever_married</th>\n",
              "      <th>work_type</th>\n",
              "      <th>avg_glucose_level</th>\n",
              "      <th>bmi</th>\n",
              "      <th>smoking_status</th>\n",
              "      <th>stroke</th>\n",
              "    </tr>\n",
              "  </thead>\n",
              "  <tbody>\n",
              "    <tr>\n",
              "      <th>0</th>\n",
              "      <td>-1.298312</td>\n",
              "      <td>1.051434</td>\n",
              "      <td>-0.328602</td>\n",
              "      <td>4.185032</td>\n",
              "      <td>0.723884</td>\n",
              "      <td>-0.697368</td>\n",
              "      <td>2.706375</td>\n",
              "      <td>1.005086</td>\n",
              "      <td>-1.451388</td>\n",
              "      <td>4.418381</td>\n",
              "    </tr>\n",
              "    <tr>\n",
              "      <th>1</th>\n",
              "      <td>0.716371</td>\n",
              "      <td>0.786070</td>\n",
              "      <td>-0.328602</td>\n",
              "      <td>-0.238947</td>\n",
              "      <td>0.723884</td>\n",
              "      <td>0.022978</td>\n",
              "      <td>2.121559</td>\n",
              "      <td>-0.098981</td>\n",
              "      <td>-0.535985</td>\n",
              "      <td>4.418381</td>\n",
              "    </tr>\n",
              "    <tr>\n",
              "      <th>2</th>\n",
              "      <td>-0.255478</td>\n",
              "      <td>1.626390</td>\n",
              "      <td>-0.328602</td>\n",
              "      <td>4.185032</td>\n",
              "      <td>0.723884</td>\n",
              "      <td>-0.697368</td>\n",
              "      <td>-0.005028</td>\n",
              "      <td>0.472536</td>\n",
              "      <td>-0.535985</td>\n",
              "      <td>4.418381</td>\n",
              "    </tr>\n",
              "    <tr>\n",
              "      <th>3</th>\n",
              "      <td>1.118363</td>\n",
              "      <td>0.255342</td>\n",
              "      <td>-0.328602</td>\n",
              "      <td>-0.238947</td>\n",
              "      <td>0.723884</td>\n",
              "      <td>-0.697368</td>\n",
              "      <td>1.437358</td>\n",
              "      <td>0.719327</td>\n",
              "      <td>0.379417</td>\n",
              "      <td>4.418381</td>\n",
              "    </tr>\n",
              "    <tr>\n",
              "      <th>4</th>\n",
              "      <td>-1.647136</td>\n",
              "      <td>1.582163</td>\n",
              "      <td>3.043196</td>\n",
              "      <td>-0.238947</td>\n",
              "      <td>0.723884</td>\n",
              "      <td>0.022978</td>\n",
              "      <td>1.501184</td>\n",
              "      <td>-0.631531</td>\n",
              "      <td>-0.535985</td>\n",
              "      <td>4.418381</td>\n",
              "    </tr>\n",
              "    <tr>\n",
              "      <th>...</th>\n",
              "      <td>...</td>\n",
              "      <td>...</td>\n",
              "      <td>...</td>\n",
              "      <td>...</td>\n",
              "      <td>...</td>\n",
              "      <td>...</td>\n",
              "      <td>...</td>\n",
              "      <td>...</td>\n",
              "      <td>...</td>\n",
              "      <td>...</td>\n",
              "    </tr>\n",
              "    <tr>\n",
              "      <th>5105</th>\n",
              "      <td>-0.864089</td>\n",
              "      <td>1.626390</td>\n",
              "      <td>3.043196</td>\n",
              "      <td>-0.238947</td>\n",
              "      <td>0.723884</td>\n",
              "      <td>-0.697368</td>\n",
              "      <td>-0.494658</td>\n",
              "      <td>-0.098981</td>\n",
              "      <td>-0.535985</td>\n",
              "      <td>-0.226327</td>\n",
              "    </tr>\n",
              "    <tr>\n",
              "      <th>5106</th>\n",
              "      <td>0.394863</td>\n",
              "      <td>1.670617</td>\n",
              "      <td>-0.328602</td>\n",
              "      <td>-0.238947</td>\n",
              "      <td>0.723884</td>\n",
              "      <td>0.022978</td>\n",
              "      <td>0.420775</td>\n",
              "      <td>1.446713</td>\n",
              "      <td>-0.535985</td>\n",
              "      <td>-0.226327</td>\n",
              "    </tr>\n",
              "    <tr>\n",
              "      <th>5107</th>\n",
              "      <td>-0.793720</td>\n",
              "      <td>-0.363842</td>\n",
              "      <td>-0.328602</td>\n",
              "      <td>-0.238947</td>\n",
              "      <td>0.723884</td>\n",
              "      <td>0.022978</td>\n",
              "      <td>-0.511443</td>\n",
              "      <td>0.225745</td>\n",
              "      <td>-0.535985</td>\n",
              "      <td>-0.226327</td>\n",
              "    </tr>\n",
              "    <tr>\n",
              "      <th>5108</th>\n",
              "      <td>0.048497</td>\n",
              "      <td>0.343796</td>\n",
              "      <td>-0.328602</td>\n",
              "      <td>-0.238947</td>\n",
              "      <td>0.723884</td>\n",
              "      <td>-0.697368</td>\n",
              "      <td>1.328257</td>\n",
              "      <td>-0.423706</td>\n",
              "      <td>-1.451388</td>\n",
              "      <td>-0.226327</td>\n",
              "    </tr>\n",
              "    <tr>\n",
              "      <th>5109</th>\n",
              "      <td>0.385695</td>\n",
              "      <td>0.034205</td>\n",
              "      <td>-0.328602</td>\n",
              "      <td>-0.238947</td>\n",
              "      <td>0.723884</td>\n",
              "      <td>0.743323</td>\n",
              "      <td>-0.460867</td>\n",
              "      <td>-0.345772</td>\n",
              "      <td>1.294820</td>\n",
              "      <td>-0.226327</td>\n",
              "    </tr>\n",
              "  </tbody>\n",
              "</table>\n",
              "<p>5110 rows × 10 columns</p>\n",
              "</div>\n",
              "      <button class=\"colab-df-convert\" onclick=\"convertToInteractive('df-0cac5afb-2711-4313-8976-5e52510476df')\"\n",
              "              title=\"Convert this dataframe to an interactive table.\"\n",
              "              style=\"display:none;\">\n",
              "        \n",
              "  <svg xmlns=\"http://www.w3.org/2000/svg\" height=\"24px\"viewBox=\"0 0 24 24\"\n",
              "       width=\"24px\">\n",
              "    <path d=\"M0 0h24v24H0V0z\" fill=\"none\"/>\n",
              "    <path d=\"M18.56 5.44l.94 2.06.94-2.06 2.06-.94-2.06-.94-.94-2.06-.94 2.06-2.06.94zm-11 1L8.5 8.5l.94-2.06 2.06-.94-2.06-.94L8.5 2.5l-.94 2.06-2.06.94zm10 10l.94 2.06.94-2.06 2.06-.94-2.06-.94-.94-2.06-.94 2.06-2.06.94z\"/><path d=\"M17.41 7.96l-1.37-1.37c-.4-.4-.92-.59-1.43-.59-.52 0-1.04.2-1.43.59L10.3 9.45l-7.72 7.72c-.78.78-.78 2.05 0 2.83L4 21.41c.39.39.9.59 1.41.59.51 0 1.02-.2 1.41-.59l7.78-7.78 2.81-2.81c.8-.78.8-2.07 0-2.86zM5.41 20L4 18.59l7.72-7.72 1.47 1.35L5.41 20z\"/>\n",
              "  </svg>\n",
              "      </button>\n",
              "      \n",
              "  <style>\n",
              "    .colab-df-container {\n",
              "      display:flex;\n",
              "      flex-wrap:wrap;\n",
              "      gap: 12px;\n",
              "    }\n",
              "\n",
              "    .colab-df-convert {\n",
              "      background-color: #E8F0FE;\n",
              "      border: none;\n",
              "      border-radius: 50%;\n",
              "      cursor: pointer;\n",
              "      display: none;\n",
              "      fill: #1967D2;\n",
              "      height: 32px;\n",
              "      padding: 0 0 0 0;\n",
              "      width: 32px;\n",
              "    }\n",
              "\n",
              "    .colab-df-convert:hover {\n",
              "      background-color: #E2EBFA;\n",
              "      box-shadow: 0px 1px 2px rgba(60, 64, 67, 0.3), 0px 1px 3px 1px rgba(60, 64, 67, 0.15);\n",
              "      fill: #174EA6;\n",
              "    }\n",
              "\n",
              "    [theme=dark] .colab-df-convert {\n",
              "      background-color: #3B4455;\n",
              "      fill: #D2E3FC;\n",
              "    }\n",
              "\n",
              "    [theme=dark] .colab-df-convert:hover {\n",
              "      background-color: #434B5C;\n",
              "      box-shadow: 0px 1px 3px 1px rgba(0, 0, 0, 0.15);\n",
              "      filter: drop-shadow(0px 1px 2px rgba(0, 0, 0, 0.3));\n",
              "      fill: #FFFFFF;\n",
              "    }\n",
              "  </style>\n",
              "\n",
              "      <script>\n",
              "        const buttonEl =\n",
              "          document.querySelector('#df-0cac5afb-2711-4313-8976-5e52510476df button.colab-df-convert');\n",
              "        buttonEl.style.display =\n",
              "          google.colab.kernel.accessAllowed ? 'block' : 'none';\n",
              "\n",
              "        async function convertToInteractive(key) {\n",
              "          const element = document.querySelector('#df-0cac5afb-2711-4313-8976-5e52510476df');\n",
              "          const dataTable =\n",
              "            await google.colab.kernel.invokeFunction('convertToInteractive',\n",
              "                                                     [key], {});\n",
              "          if (!dataTable) return;\n",
              "\n",
              "          const docLinkHtml = 'Like what you see? Visit the ' +\n",
              "            '<a target=\"_blank\" href=https://colab.research.google.com/notebooks/data_table.ipynb>data table notebook</a>'\n",
              "            + ' to learn more about interactive tables.';\n",
              "          element.innerHTML = '';\n",
              "          dataTable['output_type'] = 'display_data';\n",
              "          await google.colab.output.renderOutput(dataTable, element);\n",
              "          const docLink = document.createElement('div');\n",
              "          docLink.innerHTML = docLinkHtml;\n",
              "          element.appendChild(docLink);\n",
              "        }\n",
              "      </script>\n",
              "    </div>\n",
              "  </div>\n",
              "  "
            ]
          },
          "metadata": {},
          "execution_count": 29
        }
      ]
    },
    {
      "cell_type": "markdown",
      "source": [
        "**Answer: there are outliers, which are the ones that deviate </>3 from the mean. There are false positives in the table above, because we need to consider that the Hypertension, Heart Disease and Stroke features have 0/1 values.**"
      ],
      "metadata": {
        "id": "yP33PjV5t7te"
      }
    },
    {
      "cell_type": "code",
      "source": [
        "df1 = df.drop(['id'], axis = 1)\n",
        "data = df1.apply(zscore)\n",
        "plot = sns.boxplot(data=df1, orient=\"h\")"
      ],
      "metadata": {
        "colab": {
          "base_uri": "https://localhost:8080/",
          "height": 265
        },
        "id": "GFEwi2jWs4BM",
        "outputId": "282bfa38-4e33-4886-81f9-68d97f8d727f"
      },
      "execution_count": 33,
      "outputs": [
        {
          "output_type": "display_data",
          "data": {
            "text/plain": [
              "<Figure size 432x288 with 1 Axes>"
            ],
            "image/png": "[encoded data removed]"
          },
          "metadata": {
            "needs_background": "light"
          }
        }
      ]
    },
    {
      "cell_type": "markdown",
      "source": [
        "**Answer: From the boxplot above, we can see many outliers in the avg_glucose_level and bmi columns. These outliers, however, could be the reason why strokes happen in a real-world scenario. For example, glucose levels of +250 seem extremely high, but they could happen because of age, life style and comorbidities. Therefore, I want to keep them for ML.**"
      ],
      "metadata": {
        "id": "XWEDS8U9uuy9"
      }
    },
    {
      "cell_type": "markdown",
      "source": [
        "Q. Split the data for TRAINING and SCORING (testing). OPTIONAL: Discuss what problems could happen we have poor distribution b/w training and testing?"
      ],
      "metadata": {
        "id": "TxPO0Ch5Pv3F"
      }
    },
    {
      "cell_type": "code",
      "source": [
        "# setting the index\n",
        "df.set_index('id', inplace=True)\n",
        "df.head()"
      ],
      "metadata": {
        "colab": {
          "base_uri": "https://localhost:8080/",
          "height": 238
        },
        "id": "v4_6Zrd6CMhv",
        "outputId": "95987b16-30cb-45df-96f0-692438b7589c"
      },
      "execution_count": 34,
      "outputs": [
        {
          "output_type": "execute_result",
          "data": {
            "text/plain": [
              "        age  hypertension  heart_disease  ever_married  work_type  \\\n",
              "id                                                                  \n",
              "9046   67.0             0              1             1          0   \n",
              "51676  61.0             0              0             1          1   \n",
              "31112  80.0             0              1             1          0   \n",
              "60182  49.0             0              0             1          0   \n",
              "1665   79.0             1              0             1          1   \n",
              "\n",
              "       avg_glucose_level   bmi  smoking_status  stroke  \n",
              "id                                                      \n",
              "9046              228.69  36.6               0       1  \n",
              "51676             202.21  28.1               1       1  \n",
              "31112             105.92  32.5               1       1  \n",
              "60182             171.23  34.4               2       1  \n",
              "1665              174.12  24.0               1       1  "
            ],
            "text/html": [
              "\n",
              "  <div id=\"df-b52e33e1-97fb-43d2-8c8d-68bf008fc9a0\">\n",
              "    <div class=\"colab-df-container\">\n",
              "      <div>\n",
              "<style scoped>\n",
              "    .dataframe tbody tr th:only-of-type {\n",
              "        vertical-align: middle;\n",
              "    }\n",
              "\n",
              "    .dataframe tbody tr th {\n",
              "        vertical-align: top;\n",
              "    }\n",
              "\n",
              "    .dataframe thead th {\n",
              "        text-align: right;\n",
              "    }\n",
              "</style>\n",
              "<table border=\"1\" class=\"dataframe\">\n",
              "  <thead>\n",
              "    <tr style=\"text-align: right;\">\n",
              "      <th></th>\n",
              "      <th>age</th>\n",
              "      <th>hypertension</th>\n",
              "      <th>heart_disease</th>\n",
              "      <th>ever_married</th>\n",
              "      <th>work_type</th>\n",
              "      <th>avg_glucose_level</th>\n",
              "      <th>bmi</th>\n",
              "      <th>smoking_status</th>\n",
              "      <th>stroke</th>\n",
              "    </tr>\n",
              "    <tr>\n",
              "      <th>id</th>\n",
              "      <th></th>\n",
              "      <th></th>\n",
              "      <th></th>\n",
              "      <th></th>\n",
              "      <th></th>\n",
              "      <th></th>\n",
              "      <th></th>\n",
              "      <th></th>\n",
              "      <th></th>\n",
              "    </tr>\n",
              "  </thead>\n",
              "  <tbody>\n",
              "    <tr>\n",
              "      <th>9046</th>\n",
              "      <td>67.0</td>\n",
              "      <td>0</td>\n",
              "      <td>1</td>\n",
              "      <td>1</td>\n",
              "      <td>0</td>\n",
              "      <td>228.69</td>\n",
              "      <td>36.6</td>\n",
              "      <td>0</td>\n",
              "      <td>1</td>\n",
              "    </tr>\n",
              "    <tr>\n",
              "      <th>51676</th>\n",
              "      <td>61.0</td>\n",
              "      <td>0</td>\n",
              "      <td>0</td>\n",
              "      <td>1</td>\n",
              "      <td>1</td>\n",
              "      <td>202.21</td>\n",
              "      <td>28.1</td>\n",
              "      <td>1</td>\n",
              "      <td>1</td>\n",
              "    </tr>\n",
              "    <tr>\n",
              "      <th>31112</th>\n",
              "      <td>80.0</td>\n",
              "      <td>0</td>\n",
              "      <td>1</td>\n",
              "      <td>1</td>\n",
              "      <td>0</td>\n",
              "      <td>105.92</td>\n",
              "      <td>32.5</td>\n",
              "      <td>1</td>\n",
              "      <td>1</td>\n",
              "    </tr>\n",
              "    <tr>\n",
              "      <th>60182</th>\n",
              "      <td>49.0</td>\n",
              "      <td>0</td>\n",
              "      <td>0</td>\n",
              "      <td>1</td>\n",
              "      <td>0</td>\n",
              "      <td>171.23</td>\n",
              "      <td>34.4</td>\n",
              "      <td>2</td>\n",
              "      <td>1</td>\n",
              "    </tr>\n",
              "    <tr>\n",
              "      <th>1665</th>\n",
              "      <td>79.0</td>\n",
              "      <td>1</td>\n",
              "      <td>0</td>\n",
              "      <td>1</td>\n",
              "      <td>1</td>\n",
              "      <td>174.12</td>\n",
              "      <td>24.0</td>\n",
              "      <td>1</td>\n",
              "      <td>1</td>\n",
              "    </tr>\n",
              "  </tbody>\n",
              "</table>\n",
              "</div>\n",
              "      <button class=\"colab-df-convert\" onclick=\"convertToInteractive('df-b52e33e1-97fb-43d2-8c8d-68bf008fc9a0')\"\n",
              "              title=\"Convert this dataframe to an interactive table.\"\n",
              "              style=\"display:none;\">\n",
              "        \n",
              "  <svg xmlns=\"http://www.w3.org/2000/svg\" height=\"24px\"viewBox=\"0 0 24 24\"\n",
              "       width=\"24px\">\n",
              "    <path d=\"M0 0h24v24H0V0z\" fill=\"none\"/>\n",
              "    <path d=\"M18.56 5.44l.94 2.06.94-2.06 2.06-.94-2.06-.94-.94-2.06-.94 2.06-2.06.94zm-11 1L8.5 8.5l.94-2.06 2.06-.94-2.06-.94L8.5 2.5l-.94 2.06-2.06.94zm10 10l.94 2.06.94-2.06 2.06-.94-2.06-.94-.94-2.06-.94 2.06-2.06.94z\"/><path d=\"M17.41 7.96l-1.37-1.37c-.4-.4-.92-.59-1.43-.59-.52 0-1.04.2-1.43.59L10.3 9.45l-7.72 7.72c-.78.78-.78 2.05 0 2.83L4 21.41c.39.39.9.59 1.41.59.51 0 1.02-.2 1.41-.59l7.78-7.78 2.81-2.81c.8-.78.8-2.07 0-2.86zM5.41 20L4 18.59l7.72-7.72 1.47 1.35L5.41 20z\"/>\n",
              "  </svg>\n",
              "      </button>\n",
              "      \n",
              "  <style>\n",
              "    .colab-df-container {\n",
              "      display:flex;\n",
              "      flex-wrap:wrap;\n",
              "      gap: 12px;\n",
              "    }\n",
              "\n",
              "    .colab-df-convert {\n",
              "      background-color: #E8F0FE;\n",
              "      border: none;\n",
              "      border-radius: 50%;\n",
              "      cursor: pointer;\n",
              "      display: none;\n",
              "      fill: #1967D2;\n",
              "      height: 32px;\n",
              "      padding: 0 0 0 0;\n",
              "      width: 32px;\n",
              "    }\n",
              "\n",
              "    .colab-df-convert:hover {\n",
              "      background-color: #E2EBFA;\n",
              "      box-shadow: 0px 1px 2px rgba(60, 64, 67, 0.3), 0px 1px 3px 1px rgba(60, 64, 67, 0.15);\n",
              "      fill: #174EA6;\n",
              "    }\n",
              "\n",
              "    [theme=dark] .colab-df-convert {\n",
              "      background-color: #3B4455;\n",
              "      fill: #D2E3FC;\n",
              "    }\n",
              "\n",
              "    [theme=dark] .colab-df-convert:hover {\n",
              "      background-color: #434B5C;\n",
              "      box-shadow: 0px 1px 3px 1px rgba(0, 0, 0, 0.15);\n",
              "      filter: drop-shadow(0px 1px 2px rgba(0, 0, 0, 0.3));\n",
              "      fill: #FFFFFF;\n",
              "    }\n",
              "  </style>\n",
              "\n",
              "      <script>\n",
              "        const buttonEl =\n",
              "          document.querySelector('#df-b52e33e1-97fb-43d2-8c8d-68bf008fc9a0 button.colab-df-convert');\n",
              "        buttonEl.style.display =\n",
              "          google.colab.kernel.accessAllowed ? 'block' : 'none';\n",
              "\n",
              "        async function convertToInteractive(key) {\n",
              "          const element = document.querySelector('#df-b52e33e1-97fb-43d2-8c8d-68bf008fc9a0');\n",
              "          const dataTable =\n",
              "            await google.colab.kernel.invokeFunction('convertToInteractive',\n",
              "                                                     [key], {});\n",
              "          if (!dataTable) return;\n",
              "\n",
              "          const docLinkHtml = 'Like what you see? Visit the ' +\n",
              "            '<a target=\"_blank\" href=https://colab.research.google.com/notebooks/data_table.ipynb>data table notebook</a>'\n",
              "            + ' to learn more about interactive tables.';\n",
              "          element.innerHTML = '';\n",
              "          dataTable['output_type'] = 'display_data';\n",
              "          await google.colab.output.renderOutput(dataTable, element);\n",
              "          const docLink = document.createElement('div');\n",
              "          docLink.innerHTML = docLinkHtml;\n",
              "          element.appendChild(docLink);\n",
              "        }\n",
              "      </script>\n",
              "    </div>\n",
              "  </div>\n",
              "  "
            ]
          },
          "metadata": {},
          "execution_count": 34
        }
      ]
    },
    {
      "cell_type": "code",
      "source": [
        "x = df\n",
        "y = df.loc[:, ['stroke']]"
      ],
      "metadata": {
        "id": "kfpKhEOpCvU4"
      },
      "execution_count": 35,
      "outputs": []
    },
    {
      "cell_type": "code",
      "source": [
        "from sklearn.model_selection import train_test_split"
      ],
      "metadata": {
        "id": "x8T1ssUiCE94"
      },
      "execution_count": 36,
      "outputs": []
    },
    {
      "cell_type": "code",
      "source": [
        "xtrain,xtest, ytrain,ytest = train_test_split(x, y, test_size=0.2)"
      ],
      "metadata": {
        "id": "pqtepeZYCHvE"
      },
      "execution_count": 37,
      "outputs": []
    },
    {
      "cell_type": "code",
      "source": [
        "# preparing data to go to Azure\n",
        "df.to_csv('stroke-data-clean.csv')"
      ],
      "metadata": {
        "id": "DxOnjsEVwr39"
      },
      "execution_count": 38,
      "outputs": []
    },
    {
      "cell_type": "markdown",
      "metadata": {
        "id": "s5jKhdFd55WJ"
      },
      "source": [
        "# Part 3: Model Selection"
      ]
    },
    {
      "cell_type": "markdown",
      "metadata": {
        "id": "bosw1yWg55WJ"
      },
      "source": [
        "### Q. Use the cheat sheet below to choose the algorithm/estimator suitable for building a model to address your candidate question(s)\n",
        "\n",
        "* https://scikit-learn.org/stable/tutorial/machine_learning_map/"
      ]
    },
    {
      "cell_type": "markdown",
      "source": [
        "![ml.png](data:image/png;base64,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)"
      ],
      "metadata": {
        "id": "ZSZIMbgvIXpa"
      }
    },
    {
      "cell_type": "markdown",
      "source": [
        "**Linear regression chosen as I am predicting a number in a sample of <100k data.**"
      ],
      "metadata": {
        "id": "pk0LRx9jNlhX"
      }
    },
    {
      "cell_type": "markdown",
      "metadata": {
        "id": "gB-pblb255WJ"
      },
      "source": [
        "# Part 4: Model Evaluation"
      ]
    },
    {
      "cell_type": "markdown",
      "metadata": {
        "id": "w231rWpm55WK"
      },
      "source": [
        "### Q. Identify which of the statistical measures below are suitable for the evaluation of your model.\n",
        "\n",
        "Classification Metrics:\n",
        "* Accuracy\n",
        "* Precision\n",
        "* Recall\n",
        "* F1 Score\n",
        "\n",
        "Regression Metrics:\n",
        "    \n",
        "* Mean absolute error (MAE)\n",
        "* Root mean squared error (RMSE)\n",
        "* Relative absolute error (RAE)\n",
        "* Relative squared error (RSE)\n",
        "* Mean Zero One Error (MZOE)\n",
        "* Coefficient of determination\n",
        "\n",
        " "
      ]
    },
    {
      "cell_type": "markdown",
      "source": [
        "**Answer: The best regression metrics are RAE and RSE, as follows:**"
      ],
      "metadata": {
        "id": "Ywq6YWZfQw71"
      }
    },
    {
      "cell_type": "markdown",
      "source": [
        "![bestindicators.png](data:image/png;base64,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)"
      ],
      "metadata": {
        "id": "lFstCYMbIeNR"
      }
    },
    {
      "cell_type": "markdown",
      "metadata": {
        "id": "V_GR5s4K55WK"
      },
      "source": [
        "# Part 5: Stretch - Model Deployment"
      ]
    },
    {
      "cell_type": "markdown",
      "metadata": {
        "id": "0g_JJnoh55WL"
      },
      "source": [
        "### Q. Evaluate the open-source app framework for Machine Learning model deployment below in your own time.\n",
        "\n",
        "* https://streamlit.io/"
      ]
    },
    {
      "cell_type": "markdown",
      "source": [
        "![pipeline.png](data:image/png;base64,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)"
      ],
      "metadata": {
        "id": "BJF8yJ0sSChl"
      }
    },
    {
      "cell_type": "markdown",
      "source": [
        "**Deployment to a container instance:**"
      ],
      "metadata": {
        "id": "eVrTFGSJRrx9"
      }
    },
    {
      "cell_type": "code",
      "source": [
        "# azureml-core of version 1.0.72 or higher is required\n",
        "from azureml.core import Workspace, Dataset\n",
        "\n",
        "subscription_id = '37380390-c51c-4cde-8bf2-53c439d287f1'\n",
        "resource_group = 'finalproject'\n",
        "workspace_name = 'finalfile'\n",
        "\n",
        "workspace = Workspace(subscription_id, resource_group, workspace_name)\n",
        "\n",
        "dataset = Dataset.get_by_name(workspace, name='MD-Stroke_prediction-Train_Model-Trained_model-6ad00c02')\n",
        "dataset.download(target_path='.', overwrite=False)"
      ],
      "metadata": {
        "id": "KI5MC94cRPLW"
      },
      "execution_count": null,
      "outputs": []
    }
  ]
}